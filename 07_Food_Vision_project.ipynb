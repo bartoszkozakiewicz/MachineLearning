{
  "nbformat": 4,
  "nbformat_minor": 0,
  "metadata": {
    "colab": {
      "provenance": [],
      "authorship_tag": "ABX9TyMsqtpvCOzidpFXmu0eQ831",
      "include_colab_link": true
    },
    "kernelspec": {
      "name": "python3",
      "display_name": "Python 3"
    },
    "language_info": {
      "name": "python"
    },
    "accelerator": "GPU",
    "gpuClass": "standard",
    "widgets": {
      "application/vnd.jupyter.widget-state+json": {
        "5f5d6baf93734fbeafae2f7ae0d66481": {
          "model_module": "@jupyter-widgets/controls",
          "model_name": "HBoxModel",
          "model_module_version": "1.5.0",
          "state": {
            "_dom_classes": [],
            "_model_module": "@jupyter-widgets/controls",
            "_model_module_version": "1.5.0",
            "_model_name": "HBoxModel",
            "_view_count": null,
            "_view_module": "@jupyter-widgets/controls",
            "_view_module_version": "1.5.0",
            "_view_name": "HBoxView",
            "box_style": "",
            "children": [
              "IPY_MODEL_f763905aef3b4bec99f9dd4c8074a5c7",
              "IPY_MODEL_5807ab47c4484cbd9d1819df0fa88992",
              "IPY_MODEL_f38a68382c6b4c53926ba7a2de29ed75"
            ],
            "layout": "IPY_MODEL_477039f463df4cf38a4f94cf6f3c8605"
          }
        },
        "f763905aef3b4bec99f9dd4c8074a5c7": {
          "model_module": "@jupyter-widgets/controls",
          "model_name": "HTMLModel",
          "model_module_version": "1.5.0",
          "state": {
            "_dom_classes": [],
            "_model_module": "@jupyter-widgets/controls",
            "_model_module_version": "1.5.0",
            "_model_name": "HTMLModel",
            "_view_count": null,
            "_view_module": "@jupyter-widgets/controls",
            "_view_module_version": "1.5.0",
            "_view_name": "HTMLView",
            "description": "",
            "description_tooltip": null,
            "layout": "IPY_MODEL_2964083e20a94dcf9e460a46a2dd631e",
            "placeholder": "​",
            "style": "IPY_MODEL_58f3264b91d2433eacc3f307f869771a",
            "value": "Dl Completed...: 100%"
          }
        },
        "5807ab47c4484cbd9d1819df0fa88992": {
          "model_module": "@jupyter-widgets/controls",
          "model_name": "FloatProgressModel",
          "model_module_version": "1.5.0",
          "state": {
            "_dom_classes": [],
            "_model_module": "@jupyter-widgets/controls",
            "_model_module_version": "1.5.0",
            "_model_name": "FloatProgressModel",
            "_view_count": null,
            "_view_module": "@jupyter-widgets/controls",
            "_view_module_version": "1.5.0",
            "_view_name": "ProgressView",
            "bar_style": "info",
            "description": "",
            "description_tooltip": null,
            "layout": "IPY_MODEL_66ab2e8092cf401b93461b58bc3bcd09",
            "max": 1,
            "min": 0,
            "orientation": "horizontal",
            "style": "IPY_MODEL_f8ad2629442a4e31b32609f1a695e478",
            "value": 1
          }
        },
        "f38a68382c6b4c53926ba7a2de29ed75": {
          "model_module": "@jupyter-widgets/controls",
          "model_name": "HTMLModel",
          "model_module_version": "1.5.0",
          "state": {
            "_dom_classes": [],
            "_model_module": "@jupyter-widgets/controls",
            "_model_module_version": "1.5.0",
            "_model_name": "HTMLModel",
            "_view_count": null,
            "_view_module": "@jupyter-widgets/controls",
            "_view_module_version": "1.5.0",
            "_view_name": "HTMLView",
            "description": "",
            "description_tooltip": null,
            "layout": "IPY_MODEL_a3097b8830e9427cbe8a3e59219e45b0",
            "placeholder": "​",
            "style": "IPY_MODEL_4adedbf26f904c8fb823390c36f7898b",
            "value": " 1/1 [07:13&lt;00:00, 86.08s/ url]"
          }
        },
        "477039f463df4cf38a4f94cf6f3c8605": {
          "model_module": "@jupyter-widgets/base",
          "model_name": "LayoutModel",
          "model_module_version": "1.2.0",
          "state": {
            "_model_module": "@jupyter-widgets/base",
            "_model_module_version": "1.2.0",
            "_model_name": "LayoutModel",
            "_view_count": null,
            "_view_module": "@jupyter-widgets/base",
            "_view_module_version": "1.2.0",
            "_view_name": "LayoutView",
            "align_content": null,
            "align_items": null,
            "align_self": null,
            "border": null,
            "bottom": null,
            "display": null,
            "flex": null,
            "flex_flow": null,
            "grid_area": null,
            "grid_auto_columns": null,
            "grid_auto_flow": null,
            "grid_auto_rows": null,
            "grid_column": null,
            "grid_gap": null,
            "grid_row": null,
            "grid_template_areas": null,
            "grid_template_columns": null,
            "grid_template_rows": null,
            "height": null,
            "justify_content": null,
            "justify_items": null,
            "left": null,
            "margin": null,
            "max_height": null,
            "max_width": null,
            "min_height": null,
            "min_width": null,
            "object_fit": null,
            "object_position": null,
            "order": null,
            "overflow": null,
            "overflow_x": null,
            "overflow_y": null,
            "padding": null,
            "right": null,
            "top": null,
            "visibility": null,
            "width": null
          }
        },
        "2964083e20a94dcf9e460a46a2dd631e": {
          "model_module": "@jupyter-widgets/base",
          "model_name": "LayoutModel",
          "model_module_version": "1.2.0",
          "state": {
            "_model_module": "@jupyter-widgets/base",
            "_model_module_version": "1.2.0",
            "_model_name": "LayoutModel",
            "_view_count": null,
            "_view_module": "@jupyter-widgets/base",
            "_view_module_version": "1.2.0",
            "_view_name": "LayoutView",
            "align_content": null,
            "align_items": null,
            "align_self": null,
            "border": null,
            "bottom": null,
            "display": null,
            "flex": null,
            "flex_flow": null,
            "grid_area": null,
            "grid_auto_columns": null,
            "grid_auto_flow": null,
            "grid_auto_rows": null,
            "grid_column": null,
            "grid_gap": null,
            "grid_row": null,
            "grid_template_areas": null,
            "grid_template_columns": null,
            "grid_template_rows": null,
            "height": null,
            "justify_content": null,
            "justify_items": null,
            "left": null,
            "margin": null,
            "max_height": null,
            "max_width": null,
            "min_height": null,
            "min_width": null,
            "object_fit": null,
            "object_position": null,
            "order": null,
            "overflow": null,
            "overflow_x": null,
            "overflow_y": null,
            "padding": null,
            "right": null,
            "top": null,
            "visibility": null,
            "width": null
          }
        },
        "58f3264b91d2433eacc3f307f869771a": {
          "model_module": "@jupyter-widgets/controls",
          "model_name": "DescriptionStyleModel",
          "model_module_version": "1.5.0",
          "state": {
            "_model_module": "@jupyter-widgets/controls",
            "_model_module_version": "1.5.0",
            "_model_name": "DescriptionStyleModel",
            "_view_count": null,
            "_view_module": "@jupyter-widgets/base",
            "_view_module_version": "1.2.0",
            "_view_name": "StyleView",
            "description_width": ""
          }
        },
        "66ab2e8092cf401b93461b58bc3bcd09": {
          "model_module": "@jupyter-widgets/base",
          "model_name": "LayoutModel",
          "model_module_version": "1.2.0",
          "state": {
            "_model_module": "@jupyter-widgets/base",
            "_model_module_version": "1.2.0",
            "_model_name": "LayoutModel",
            "_view_count": null,
            "_view_module": "@jupyter-widgets/base",
            "_view_module_version": "1.2.0",
            "_view_name": "LayoutView",
            "align_content": null,
            "align_items": null,
            "align_self": null,
            "border": null,
            "bottom": null,
            "display": null,
            "flex": null,
            "flex_flow": null,
            "grid_area": null,
            "grid_auto_columns": null,
            "grid_auto_flow": null,
            "grid_auto_rows": null,
            "grid_column": null,
            "grid_gap": null,
            "grid_row": null,
            "grid_template_areas": null,
            "grid_template_columns": null,
            "grid_template_rows": null,
            "height": null,
            "justify_content": null,
            "justify_items": null,
            "left": null,
            "margin": null,
            "max_height": null,
            "max_width": null,
            "min_height": null,
            "min_width": null,
            "object_fit": null,
            "object_position": null,
            "order": null,
            "overflow": null,
            "overflow_x": null,
            "overflow_y": null,
            "padding": null,
            "right": null,
            "top": null,
            "visibility": null,
            "width": "20px"
          }
        },
        "f8ad2629442a4e31b32609f1a695e478": {
          "model_module": "@jupyter-widgets/controls",
          "model_name": "ProgressStyleModel",
          "model_module_version": "1.5.0",
          "state": {
            "_model_module": "@jupyter-widgets/controls",
            "_model_module_version": "1.5.0",
            "_model_name": "ProgressStyleModel",
            "_view_count": null,
            "_view_module": "@jupyter-widgets/base",
            "_view_module_version": "1.2.0",
            "_view_name": "StyleView",
            "bar_color": null,
            "description_width": ""
          }
        },
        "a3097b8830e9427cbe8a3e59219e45b0": {
          "model_module": "@jupyter-widgets/base",
          "model_name": "LayoutModel",
          "model_module_version": "1.2.0",
          "state": {
            "_model_module": "@jupyter-widgets/base",
            "_model_module_version": "1.2.0",
            "_model_name": "LayoutModel",
            "_view_count": null,
            "_view_module": "@jupyter-widgets/base",
            "_view_module_version": "1.2.0",
            "_view_name": "LayoutView",
            "align_content": null,
            "align_items": null,
            "align_self": null,
            "border": null,
            "bottom": null,
            "display": null,
            "flex": null,
            "flex_flow": null,
            "grid_area": null,
            "grid_auto_columns": null,
            "grid_auto_flow": null,
            "grid_auto_rows": null,
            "grid_column": null,
            "grid_gap": null,
            "grid_row": null,
            "grid_template_areas": null,
            "grid_template_columns": null,
            "grid_template_rows": null,
            "height": null,
            "justify_content": null,
            "justify_items": null,
            "left": null,
            "margin": null,
            "max_height": null,
            "max_width": null,
            "min_height": null,
            "min_width": null,
            "object_fit": null,
            "object_position": null,
            "order": null,
            "overflow": null,
            "overflow_x": null,
            "overflow_y": null,
            "padding": null,
            "right": null,
            "top": null,
            "visibility": null,
            "width": null
          }
        },
        "4adedbf26f904c8fb823390c36f7898b": {
          "model_module": "@jupyter-widgets/controls",
          "model_name": "DescriptionStyleModel",
          "model_module_version": "1.5.0",
          "state": {
            "_model_module": "@jupyter-widgets/controls",
            "_model_module_version": "1.5.0",
            "_model_name": "DescriptionStyleModel",
            "_view_count": null,
            "_view_module": "@jupyter-widgets/base",
            "_view_module_version": "1.2.0",
            "_view_name": "StyleView",
            "description_width": ""
          }
        },
        "0c6158ba9b3640e79b53b6eba4bfc7f2": {
          "model_module": "@jupyter-widgets/controls",
          "model_name": "HBoxModel",
          "model_module_version": "1.5.0",
          "state": {
            "_dom_classes": [],
            "_model_module": "@jupyter-widgets/controls",
            "_model_module_version": "1.5.0",
            "_model_name": "HBoxModel",
            "_view_count": null,
            "_view_module": "@jupyter-widgets/controls",
            "_view_module_version": "1.5.0",
            "_view_name": "HBoxView",
            "box_style": "",
            "children": [
              "IPY_MODEL_8ea8a17c494142cf897837c57845223a",
              "IPY_MODEL_4f176060472d477a91d9dcc22d5f4e8f",
              "IPY_MODEL_6c1fd270993545fbb17cce8b19e5744f"
            ],
            "layout": "IPY_MODEL_fddbac5aff9c46a880d327184db41003"
          }
        },
        "8ea8a17c494142cf897837c57845223a": {
          "model_module": "@jupyter-widgets/controls",
          "model_name": "HTMLModel",
          "model_module_version": "1.5.0",
          "state": {
            "_dom_classes": [],
            "_model_module": "@jupyter-widgets/controls",
            "_model_module_version": "1.5.0",
            "_model_name": "HTMLModel",
            "_view_count": null,
            "_view_module": "@jupyter-widgets/controls",
            "_view_module_version": "1.5.0",
            "_view_name": "HTMLView",
            "description": "",
            "description_tooltip": null,
            "layout": "IPY_MODEL_39a9a599e5ce4d5fb1198c41f6d141ca",
            "placeholder": "​",
            "style": "IPY_MODEL_95898a3a2e4f41ad8cf0932133f4976a",
            "value": "Dl Size...: 100%"
          }
        },
        "4f176060472d477a91d9dcc22d5f4e8f": {
          "model_module": "@jupyter-widgets/controls",
          "model_name": "FloatProgressModel",
          "model_module_version": "1.5.0",
          "state": {
            "_dom_classes": [],
            "_model_module": "@jupyter-widgets/controls",
            "_model_module_version": "1.5.0",
            "_model_name": "FloatProgressModel",
            "_view_count": null,
            "_view_module": "@jupyter-widgets/controls",
            "_view_module_version": "1.5.0",
            "_view_name": "ProgressView",
            "bar_style": "info",
            "description": "",
            "description_tooltip": null,
            "layout": "IPY_MODEL_1655663197e147da9cd0d39192be3759",
            "max": 1,
            "min": 0,
            "orientation": "horizontal",
            "style": "IPY_MODEL_eecfb7332d6e4f138b02233394cc00b5",
            "value": 1
          }
        },
        "6c1fd270993545fbb17cce8b19e5744f": {
          "model_module": "@jupyter-widgets/controls",
          "model_name": "HTMLModel",
          "model_module_version": "1.5.0",
          "state": {
            "_dom_classes": [],
            "_model_module": "@jupyter-widgets/controls",
            "_model_module_version": "1.5.0",
            "_model_name": "HTMLModel",
            "_view_count": null,
            "_view_module": "@jupyter-widgets/controls",
            "_view_module_version": "1.5.0",
            "_view_name": "HTMLView",
            "description": "",
            "description_tooltip": null,
            "layout": "IPY_MODEL_73ca065f9dc44c1f90b7af6350968c17",
            "placeholder": "​",
            "style": "IPY_MODEL_25dd907234cb42c9ad8bdf5b31127e60",
            "value": " 4764/4764 [07:13&lt;00:00, 64.99 MiB/s]"
          }
        },
        "fddbac5aff9c46a880d327184db41003": {
          "model_module": "@jupyter-widgets/base",
          "model_name": "LayoutModel",
          "model_module_version": "1.2.0",
          "state": {
            "_model_module": "@jupyter-widgets/base",
            "_model_module_version": "1.2.0",
            "_model_name": "LayoutModel",
            "_view_count": null,
            "_view_module": "@jupyter-widgets/base",
            "_view_module_version": "1.2.0",
            "_view_name": "LayoutView",
            "align_content": null,
            "align_items": null,
            "align_self": null,
            "border": null,
            "bottom": null,
            "display": null,
            "flex": null,
            "flex_flow": null,
            "grid_area": null,
            "grid_auto_columns": null,
            "grid_auto_flow": null,
            "grid_auto_rows": null,
            "grid_column": null,
            "grid_gap": null,
            "grid_row": null,
            "grid_template_areas": null,
            "grid_template_columns": null,
            "grid_template_rows": null,
            "height": null,
            "justify_content": null,
            "justify_items": null,
            "left": null,
            "margin": null,
            "max_height": null,
            "max_width": null,
            "min_height": null,
            "min_width": null,
            "object_fit": null,
            "object_position": null,
            "order": null,
            "overflow": null,
            "overflow_x": null,
            "overflow_y": null,
            "padding": null,
            "right": null,
            "top": null,
            "visibility": null,
            "width": null
          }
        },
        "39a9a599e5ce4d5fb1198c41f6d141ca": {
          "model_module": "@jupyter-widgets/base",
          "model_name": "LayoutModel",
          "model_module_version": "1.2.0",
          "state": {
            "_model_module": "@jupyter-widgets/base",
            "_model_module_version": "1.2.0",
            "_model_name": "LayoutModel",
            "_view_count": null,
            "_view_module": "@jupyter-widgets/base",
            "_view_module_version": "1.2.0",
            "_view_name": "LayoutView",
            "align_content": null,
            "align_items": null,
            "align_self": null,
            "border": null,
            "bottom": null,
            "display": null,
            "flex": null,
            "flex_flow": null,
            "grid_area": null,
            "grid_auto_columns": null,
            "grid_auto_flow": null,
            "grid_auto_rows": null,
            "grid_column": null,
            "grid_gap": null,
            "grid_row": null,
            "grid_template_areas": null,
            "grid_template_columns": null,
            "grid_template_rows": null,
            "height": null,
            "justify_content": null,
            "justify_items": null,
            "left": null,
            "margin": null,
            "max_height": null,
            "max_width": null,
            "min_height": null,
            "min_width": null,
            "object_fit": null,
            "object_position": null,
            "order": null,
            "overflow": null,
            "overflow_x": null,
            "overflow_y": null,
            "padding": null,
            "right": null,
            "top": null,
            "visibility": null,
            "width": null
          }
        },
        "95898a3a2e4f41ad8cf0932133f4976a": {
          "model_module": "@jupyter-widgets/controls",
          "model_name": "DescriptionStyleModel",
          "model_module_version": "1.5.0",
          "state": {
            "_model_module": "@jupyter-widgets/controls",
            "_model_module_version": "1.5.0",
            "_model_name": "DescriptionStyleModel",
            "_view_count": null,
            "_view_module": "@jupyter-widgets/base",
            "_view_module_version": "1.2.0",
            "_view_name": "StyleView",
            "description_width": ""
          }
        },
        "1655663197e147da9cd0d39192be3759": {
          "model_module": "@jupyter-widgets/base",
          "model_name": "LayoutModel",
          "model_module_version": "1.2.0",
          "state": {
            "_model_module": "@jupyter-widgets/base",
            "_model_module_version": "1.2.0",
            "_model_name": "LayoutModel",
            "_view_count": null,
            "_view_module": "@jupyter-widgets/base",
            "_view_module_version": "1.2.0",
            "_view_name": "LayoutView",
            "align_content": null,
            "align_items": null,
            "align_self": null,
            "border": null,
            "bottom": null,
            "display": null,
            "flex": null,
            "flex_flow": null,
            "grid_area": null,
            "grid_auto_columns": null,
            "grid_auto_flow": null,
            "grid_auto_rows": null,
            "grid_column": null,
            "grid_gap": null,
            "grid_row": null,
            "grid_template_areas": null,
            "grid_template_columns": null,
            "grid_template_rows": null,
            "height": null,
            "justify_content": null,
            "justify_items": null,
            "left": null,
            "margin": null,
            "max_height": null,
            "max_width": null,
            "min_height": null,
            "min_width": null,
            "object_fit": null,
            "object_position": null,
            "order": null,
            "overflow": null,
            "overflow_x": null,
            "overflow_y": null,
            "padding": null,
            "right": null,
            "top": null,
            "visibility": null,
            "width": "20px"
          }
        },
        "eecfb7332d6e4f138b02233394cc00b5": {
          "model_module": "@jupyter-widgets/controls",
          "model_name": "ProgressStyleModel",
          "model_module_version": "1.5.0",
          "state": {
            "_model_module": "@jupyter-widgets/controls",
            "_model_module_version": "1.5.0",
            "_model_name": "ProgressStyleModel",
            "_view_count": null,
            "_view_module": "@jupyter-widgets/base",
            "_view_module_version": "1.2.0",
            "_view_name": "StyleView",
            "bar_color": null,
            "description_width": ""
          }
        },
        "73ca065f9dc44c1f90b7af6350968c17": {
          "model_module": "@jupyter-widgets/base",
          "model_name": "LayoutModel",
          "model_module_version": "1.2.0",
          "state": {
            "_model_module": "@jupyter-widgets/base",
            "_model_module_version": "1.2.0",
            "_model_name": "LayoutModel",
            "_view_count": null,
            "_view_module": "@jupyter-widgets/base",
            "_view_module_version": "1.2.0",
            "_view_name": "LayoutView",
            "align_content": null,
            "align_items": null,
            "align_self": null,
            "border": null,
            "bottom": null,
            "display": null,
            "flex": null,
            "flex_flow": null,
            "grid_area": null,
            "grid_auto_columns": null,
            "grid_auto_flow": null,
            "grid_auto_rows": null,
            "grid_column": null,
            "grid_gap": null,
            "grid_row": null,
            "grid_template_areas": null,
            "grid_template_columns": null,
            "grid_template_rows": null,
            "height": null,
            "justify_content": null,
            "justify_items": null,
            "left": null,
            "margin": null,
            "max_height": null,
            "max_width": null,
            "min_height": null,
            "min_width": null,
            "object_fit": null,
            "object_position": null,
            "order": null,
            "overflow": null,
            "overflow_x": null,
            "overflow_y": null,
            "padding": null,
            "right": null,
            "top": null,
            "visibility": null,
            "width": null
          }
        },
        "25dd907234cb42c9ad8bdf5b31127e60": {
          "model_module": "@jupyter-widgets/controls",
          "model_name": "DescriptionStyleModel",
          "model_module_version": "1.5.0",
          "state": {
            "_model_module": "@jupyter-widgets/controls",
            "_model_module_version": "1.5.0",
            "_model_name": "DescriptionStyleModel",
            "_view_count": null,
            "_view_module": "@jupyter-widgets/base",
            "_view_module_version": "1.2.0",
            "_view_name": "StyleView",
            "description_width": ""
          }
        },
        "c0a02c3ab2ca4c8b8b238160ea49742b": {
          "model_module": "@jupyter-widgets/controls",
          "model_name": "HBoxModel",
          "model_module_version": "1.5.0",
          "state": {
            "_dom_classes": [],
            "_model_module": "@jupyter-widgets/controls",
            "_model_module_version": "1.5.0",
            "_model_name": "HBoxModel",
            "_view_count": null,
            "_view_module": "@jupyter-widgets/controls",
            "_view_module_version": "1.5.0",
            "_view_name": "HBoxView",
            "box_style": "",
            "children": [
              "IPY_MODEL_513a023051e244b3bb4fabf1c1a31dee",
              "IPY_MODEL_87cc05882a984ead9805073d4af49361",
              "IPY_MODEL_1d62b4ccbf614a908202ee8bf97da3fd"
            ],
            "layout": "IPY_MODEL_ab8bb5dccd184d88b2c7081e91ec5ebd"
          }
        },
        "513a023051e244b3bb4fabf1c1a31dee": {
          "model_module": "@jupyter-widgets/controls",
          "model_name": "HTMLModel",
          "model_module_version": "1.5.0",
          "state": {
            "_dom_classes": [],
            "_model_module": "@jupyter-widgets/controls",
            "_model_module_version": "1.5.0",
            "_model_name": "HTMLModel",
            "_view_count": null,
            "_view_module": "@jupyter-widgets/controls",
            "_view_module_version": "1.5.0",
            "_view_name": "HTMLView",
            "description": "",
            "description_tooltip": null,
            "layout": "IPY_MODEL_213fb16e8cb047148271ac129a2116e9",
            "placeholder": "​",
            "style": "IPY_MODEL_8805dc301fc547f993320309b158f731",
            "value": "Extraction completed...:  98%"
          }
        },
        "87cc05882a984ead9805073d4af49361": {
          "model_module": "@jupyter-widgets/controls",
          "model_name": "FloatProgressModel",
          "model_module_version": "1.5.0",
          "state": {
            "_dom_classes": [],
            "_model_module": "@jupyter-widgets/controls",
            "_model_module_version": "1.5.0",
            "_model_name": "FloatProgressModel",
            "_view_count": null,
            "_view_module": "@jupyter-widgets/controls",
            "_view_module_version": "1.5.0",
            "_view_name": "ProgressView",
            "bar_style": "info",
            "description": "",
            "description_tooltip": null,
            "layout": "IPY_MODEL_edeeab11b4e5464aa64a215c7ba64670",
            "max": 1,
            "min": 0,
            "orientation": "horizontal",
            "style": "IPY_MODEL_cb450b1c47e64fa097d88e98e07d1383",
            "value": 1
          }
        },
        "1d62b4ccbf614a908202ee8bf97da3fd": {
          "model_module": "@jupyter-widgets/controls",
          "model_name": "HTMLModel",
          "model_module_version": "1.5.0",
          "state": {
            "_dom_classes": [],
            "_model_module": "@jupyter-widgets/controls",
            "_model_module_version": "1.5.0",
            "_model_name": "HTMLModel",
            "_view_count": null,
            "_view_module": "@jupyter-widgets/controls",
            "_view_module_version": "1.5.0",
            "_view_name": "HTMLView",
            "description": "",
            "description_tooltip": null,
            "layout": "IPY_MODEL_ba2047235e46490783e3be774101b02a",
            "placeholder": "​",
            "style": "IPY_MODEL_69818733bcd243f59bfb2650613ae640",
            "value": " 100288/101008 [07:14&lt;00:00, 1010.12 file/s]"
          }
        },
        "ab8bb5dccd184d88b2c7081e91ec5ebd": {
          "model_module": "@jupyter-widgets/base",
          "model_name": "LayoutModel",
          "model_module_version": "1.2.0",
          "state": {
            "_model_module": "@jupyter-widgets/base",
            "_model_module_version": "1.2.0",
            "_model_name": "LayoutModel",
            "_view_count": null,
            "_view_module": "@jupyter-widgets/base",
            "_view_module_version": "1.2.0",
            "_view_name": "LayoutView",
            "align_content": null,
            "align_items": null,
            "align_self": null,
            "border": null,
            "bottom": null,
            "display": null,
            "flex": null,
            "flex_flow": null,
            "grid_area": null,
            "grid_auto_columns": null,
            "grid_auto_flow": null,
            "grid_auto_rows": null,
            "grid_column": null,
            "grid_gap": null,
            "grid_row": null,
            "grid_template_areas": null,
            "grid_template_columns": null,
            "grid_template_rows": null,
            "height": null,
            "justify_content": null,
            "justify_items": null,
            "left": null,
            "margin": null,
            "max_height": null,
            "max_width": null,
            "min_height": null,
            "min_width": null,
            "object_fit": null,
            "object_position": null,
            "order": null,
            "overflow": null,
            "overflow_x": null,
            "overflow_y": null,
            "padding": null,
            "right": null,
            "top": null,
            "visibility": null,
            "width": null
          }
        },
        "213fb16e8cb047148271ac129a2116e9": {
          "model_module": "@jupyter-widgets/base",
          "model_name": "LayoutModel",
          "model_module_version": "1.2.0",
          "state": {
            "_model_module": "@jupyter-widgets/base",
            "_model_module_version": "1.2.0",
            "_model_name": "LayoutModel",
            "_view_count": null,
            "_view_module": "@jupyter-widgets/base",
            "_view_module_version": "1.2.0",
            "_view_name": "LayoutView",
            "align_content": null,
            "align_items": null,
            "align_self": null,
            "border": null,
            "bottom": null,
            "display": null,
            "flex": null,
            "flex_flow": null,
            "grid_area": null,
            "grid_auto_columns": null,
            "grid_auto_flow": null,
            "grid_auto_rows": null,
            "grid_column": null,
            "grid_gap": null,
            "grid_row": null,
            "grid_template_areas": null,
            "grid_template_columns": null,
            "grid_template_rows": null,
            "height": null,
            "justify_content": null,
            "justify_items": null,
            "left": null,
            "margin": null,
            "max_height": null,
            "max_width": null,
            "min_height": null,
            "min_width": null,
            "object_fit": null,
            "object_position": null,
            "order": null,
            "overflow": null,
            "overflow_x": null,
            "overflow_y": null,
            "padding": null,
            "right": null,
            "top": null,
            "visibility": null,
            "width": null
          }
        },
        "8805dc301fc547f993320309b158f731": {
          "model_module": "@jupyter-widgets/controls",
          "model_name": "DescriptionStyleModel",
          "model_module_version": "1.5.0",
          "state": {
            "_model_module": "@jupyter-widgets/controls",
            "_model_module_version": "1.5.0",
            "_model_name": "DescriptionStyleModel",
            "_view_count": null,
            "_view_module": "@jupyter-widgets/base",
            "_view_module_version": "1.2.0",
            "_view_name": "StyleView",
            "description_width": ""
          }
        },
        "edeeab11b4e5464aa64a215c7ba64670": {
          "model_module": "@jupyter-widgets/base",
          "model_name": "LayoutModel",
          "model_module_version": "1.2.0",
          "state": {
            "_model_module": "@jupyter-widgets/base",
            "_model_module_version": "1.2.0",
            "_model_name": "LayoutModel",
            "_view_count": null,
            "_view_module": "@jupyter-widgets/base",
            "_view_module_version": "1.2.0",
            "_view_name": "LayoutView",
            "align_content": null,
            "align_items": null,
            "align_self": null,
            "border": null,
            "bottom": null,
            "display": null,
            "flex": null,
            "flex_flow": null,
            "grid_area": null,
            "grid_auto_columns": null,
            "grid_auto_flow": null,
            "grid_auto_rows": null,
            "grid_column": null,
            "grid_gap": null,
            "grid_row": null,
            "grid_template_areas": null,
            "grid_template_columns": null,
            "grid_template_rows": null,
            "height": null,
            "justify_content": null,
            "justify_items": null,
            "left": null,
            "margin": null,
            "max_height": null,
            "max_width": null,
            "min_height": null,
            "min_width": null,
            "object_fit": null,
            "object_position": null,
            "order": null,
            "overflow": null,
            "overflow_x": null,
            "overflow_y": null,
            "padding": null,
            "right": null,
            "top": null,
            "visibility": null,
            "width": "20px"
          }
        },
        "cb450b1c47e64fa097d88e98e07d1383": {
          "model_module": "@jupyter-widgets/controls",
          "model_name": "ProgressStyleModel",
          "model_module_version": "1.5.0",
          "state": {
            "_model_module": "@jupyter-widgets/controls",
            "_model_module_version": "1.5.0",
            "_model_name": "ProgressStyleModel",
            "_view_count": null,
            "_view_module": "@jupyter-widgets/base",
            "_view_module_version": "1.2.0",
            "_view_name": "StyleView",
            "bar_color": null,
            "description_width": ""
          }
        },
        "ba2047235e46490783e3be774101b02a": {
          "model_module": "@jupyter-widgets/base",
          "model_name": "LayoutModel",
          "model_module_version": "1.2.0",
          "state": {
            "_model_module": "@jupyter-widgets/base",
            "_model_module_version": "1.2.0",
            "_model_name": "LayoutModel",
            "_view_count": null,
            "_view_module": "@jupyter-widgets/base",
            "_view_module_version": "1.2.0",
            "_view_name": "LayoutView",
            "align_content": null,
            "align_items": null,
            "align_self": null,
            "border": null,
            "bottom": null,
            "display": null,
            "flex": null,
            "flex_flow": null,
            "grid_area": null,
            "grid_auto_columns": null,
            "grid_auto_flow": null,
            "grid_auto_rows": null,
            "grid_column": null,
            "grid_gap": null,
            "grid_row": null,
            "grid_template_areas": null,
            "grid_template_columns": null,
            "grid_template_rows": null,
            "height": null,
            "justify_content": null,
            "justify_items": null,
            "left": null,
            "margin": null,
            "max_height": null,
            "max_width": null,
            "min_height": null,
            "min_width": null,
            "object_fit": null,
            "object_position": null,
            "order": null,
            "overflow": null,
            "overflow_x": null,
            "overflow_y": null,
            "padding": null,
            "right": null,
            "top": null,
            "visibility": null,
            "width": null
          }
        },
        "69818733bcd243f59bfb2650613ae640": {
          "model_module": "@jupyter-widgets/controls",
          "model_name": "DescriptionStyleModel",
          "model_module_version": "1.5.0",
          "state": {
            "_model_module": "@jupyter-widgets/controls",
            "_model_module_version": "1.5.0",
            "_model_name": "DescriptionStyleModel",
            "_view_count": null,
            "_view_module": "@jupyter-widgets/base",
            "_view_module_version": "1.2.0",
            "_view_name": "StyleView",
            "description_width": ""
          }
        },
        "d01baa55f5d54fd9b045d0eecef92a29": {
          "model_module": "@jupyter-widgets/controls",
          "model_name": "HBoxModel",
          "model_module_version": "1.5.0",
          "state": {
            "_dom_classes": [],
            "_model_module": "@jupyter-widgets/controls",
            "_model_module_version": "1.5.0",
            "_model_name": "HBoxModel",
            "_view_count": null,
            "_view_module": "@jupyter-widgets/controls",
            "_view_module_version": "1.5.0",
            "_view_name": "HBoxView",
            "box_style": "",
            "children": [
              "IPY_MODEL_0d368fb4f6bf449ca06983c6793f971c",
              "IPY_MODEL_ac6c310419e34cae94333d9e3a47f5c5",
              "IPY_MODEL_192cbd15e6da4f20ba946995a1ea78b2"
            ],
            "layout": "IPY_MODEL_35f7a087c02d47d885d36920118f8855"
          }
        },
        "0d368fb4f6bf449ca06983c6793f971c": {
          "model_module": "@jupyter-widgets/controls",
          "model_name": "HTMLModel",
          "model_module_version": "1.5.0",
          "state": {
            "_dom_classes": [],
            "_model_module": "@jupyter-widgets/controls",
            "_model_module_version": "1.5.0",
            "_model_name": "HTMLModel",
            "_view_count": null,
            "_view_module": "@jupyter-widgets/controls",
            "_view_module_version": "1.5.0",
            "_view_name": "HTMLView",
            "description": "",
            "description_tooltip": null,
            "layout": "IPY_MODEL_c337bed05caa4a118823ac3f310f3b30",
            "placeholder": "​",
            "style": "IPY_MODEL_35d6c4a2480c4a7fb5a3b327fc6f4606",
            "value": "Shuffling /root/tensorflow_datasets/food101/2.0.0.incompleteF3NSKU/food101-train.tfrecord*...: 100%"
          }
        },
        "ac6c310419e34cae94333d9e3a47f5c5": {
          "model_module": "@jupyter-widgets/controls",
          "model_name": "FloatProgressModel",
          "model_module_version": "1.5.0",
          "state": {
            "_dom_classes": [],
            "_model_module": "@jupyter-widgets/controls",
            "_model_module_version": "1.5.0",
            "_model_name": "FloatProgressModel",
            "_view_count": null,
            "_view_module": "@jupyter-widgets/controls",
            "_view_module_version": "1.5.0",
            "_view_name": "ProgressView",
            "bar_style": "",
            "description": "",
            "description_tooltip": null,
            "layout": "IPY_MODEL_bbc20e45639f473fb2edfb2556eded6f",
            "max": 75750,
            "min": 0,
            "orientation": "horizontal",
            "style": "IPY_MODEL_f08cb22a89f9401cb9f3307240ac1a24",
            "value": 75750
          }
        },
        "192cbd15e6da4f20ba946995a1ea78b2": {
          "model_module": "@jupyter-widgets/controls",
          "model_name": "HTMLModel",
          "model_module_version": "1.5.0",
          "state": {
            "_dom_classes": [],
            "_model_module": "@jupyter-widgets/controls",
            "_model_module_version": "1.5.0",
            "_model_name": "HTMLModel",
            "_view_count": null,
            "_view_module": "@jupyter-widgets/controls",
            "_view_module_version": "1.5.0",
            "_view_name": "HTMLView",
            "description": "",
            "description_tooltip": null,
            "layout": "IPY_MODEL_b97ecf737f314b4db61db7186319064a",
            "placeholder": "​",
            "style": "IPY_MODEL_5d8e0e45baba4a49b3d703b8c34e37dc",
            "value": " 75445/75750 [00:26&lt;00:00, 2897.48 examples/s]"
          }
        },
        "35f7a087c02d47d885d36920118f8855": {
          "model_module": "@jupyter-widgets/base",
          "model_name": "LayoutModel",
          "model_module_version": "1.2.0",
          "state": {
            "_model_module": "@jupyter-widgets/base",
            "_model_module_version": "1.2.0",
            "_model_name": "LayoutModel",
            "_view_count": null,
            "_view_module": "@jupyter-widgets/base",
            "_view_module_version": "1.2.0",
            "_view_name": "LayoutView",
            "align_content": null,
            "align_items": null,
            "align_self": null,
            "border": null,
            "bottom": null,
            "display": null,
            "flex": null,
            "flex_flow": null,
            "grid_area": null,
            "grid_auto_columns": null,
            "grid_auto_flow": null,
            "grid_auto_rows": null,
            "grid_column": null,
            "grid_gap": null,
            "grid_row": null,
            "grid_template_areas": null,
            "grid_template_columns": null,
            "grid_template_rows": null,
            "height": null,
            "justify_content": null,
            "justify_items": null,
            "left": null,
            "margin": null,
            "max_height": null,
            "max_width": null,
            "min_height": null,
            "min_width": null,
            "object_fit": null,
            "object_position": null,
            "order": null,
            "overflow": null,
            "overflow_x": null,
            "overflow_y": null,
            "padding": null,
            "right": null,
            "top": null,
            "visibility": "hidden",
            "width": null
          }
        },
        "c337bed05caa4a118823ac3f310f3b30": {
          "model_module": "@jupyter-widgets/base",
          "model_name": "LayoutModel",
          "model_module_version": "1.2.0",
          "state": {
            "_model_module": "@jupyter-widgets/base",
            "_model_module_version": "1.2.0",
            "_model_name": "LayoutModel",
            "_view_count": null,
            "_view_module": "@jupyter-widgets/base",
            "_view_module_version": "1.2.0",
            "_view_name": "LayoutView",
            "align_content": null,
            "align_items": null,
            "align_self": null,
            "border": null,
            "bottom": null,
            "display": null,
            "flex": null,
            "flex_flow": null,
            "grid_area": null,
            "grid_auto_columns": null,
            "grid_auto_flow": null,
            "grid_auto_rows": null,
            "grid_column": null,
            "grid_gap": null,
            "grid_row": null,
            "grid_template_areas": null,
            "grid_template_columns": null,
            "grid_template_rows": null,
            "height": null,
            "justify_content": null,
            "justify_items": null,
            "left": null,
            "margin": null,
            "max_height": null,
            "max_width": null,
            "min_height": null,
            "min_width": null,
            "object_fit": null,
            "object_position": null,
            "order": null,
            "overflow": null,
            "overflow_x": null,
            "overflow_y": null,
            "padding": null,
            "right": null,
            "top": null,
            "visibility": null,
            "width": null
          }
        },
        "35d6c4a2480c4a7fb5a3b327fc6f4606": {
          "model_module": "@jupyter-widgets/controls",
          "model_name": "DescriptionStyleModel",
          "model_module_version": "1.5.0",
          "state": {
            "_model_module": "@jupyter-widgets/controls",
            "_model_module_version": "1.5.0",
            "_model_name": "DescriptionStyleModel",
            "_view_count": null,
            "_view_module": "@jupyter-widgets/base",
            "_view_module_version": "1.2.0",
            "_view_name": "StyleView",
            "description_width": ""
          }
        },
        "bbc20e45639f473fb2edfb2556eded6f": {
          "model_module": "@jupyter-widgets/base",
          "model_name": "LayoutModel",
          "model_module_version": "1.2.0",
          "state": {
            "_model_module": "@jupyter-widgets/base",
            "_model_module_version": "1.2.0",
            "_model_name": "LayoutModel",
            "_view_count": null,
            "_view_module": "@jupyter-widgets/base",
            "_view_module_version": "1.2.0",
            "_view_name": "LayoutView",
            "align_content": null,
            "align_items": null,
            "align_self": null,
            "border": null,
            "bottom": null,
            "display": null,
            "flex": null,
            "flex_flow": null,
            "grid_area": null,
            "grid_auto_columns": null,
            "grid_auto_flow": null,
            "grid_auto_rows": null,
            "grid_column": null,
            "grid_gap": null,
            "grid_row": null,
            "grid_template_areas": null,
            "grid_template_columns": null,
            "grid_template_rows": null,
            "height": null,
            "justify_content": null,
            "justify_items": null,
            "left": null,
            "margin": null,
            "max_height": null,
            "max_width": null,
            "min_height": null,
            "min_width": null,
            "object_fit": null,
            "object_position": null,
            "order": null,
            "overflow": null,
            "overflow_x": null,
            "overflow_y": null,
            "padding": null,
            "right": null,
            "top": null,
            "visibility": null,
            "width": null
          }
        },
        "f08cb22a89f9401cb9f3307240ac1a24": {
          "model_module": "@jupyter-widgets/controls",
          "model_name": "ProgressStyleModel",
          "model_module_version": "1.5.0",
          "state": {
            "_model_module": "@jupyter-widgets/controls",
            "_model_module_version": "1.5.0",
            "_model_name": "ProgressStyleModel",
            "_view_count": null,
            "_view_module": "@jupyter-widgets/base",
            "_view_module_version": "1.2.0",
            "_view_name": "StyleView",
            "bar_color": null,
            "description_width": ""
          }
        },
        "b97ecf737f314b4db61db7186319064a": {
          "model_module": "@jupyter-widgets/base",
          "model_name": "LayoutModel",
          "model_module_version": "1.2.0",
          "state": {
            "_model_module": "@jupyter-widgets/base",
            "_model_module_version": "1.2.0",
            "_model_name": "LayoutModel",
            "_view_count": null,
            "_view_module": "@jupyter-widgets/base",
            "_view_module_version": "1.2.0",
            "_view_name": "LayoutView",
            "align_content": null,
            "align_items": null,
            "align_self": null,
            "border": null,
            "bottom": null,
            "display": null,
            "flex": null,
            "flex_flow": null,
            "grid_area": null,
            "grid_auto_columns": null,
            "grid_auto_flow": null,
            "grid_auto_rows": null,
            "grid_column": null,
            "grid_gap": null,
            "grid_row": null,
            "grid_template_areas": null,
            "grid_template_columns": null,
            "grid_template_rows": null,
            "height": null,
            "justify_content": null,
            "justify_items": null,
            "left": null,
            "margin": null,
            "max_height": null,
            "max_width": null,
            "min_height": null,
            "min_width": null,
            "object_fit": null,
            "object_position": null,
            "order": null,
            "overflow": null,
            "overflow_x": null,
            "overflow_y": null,
            "padding": null,
            "right": null,
            "top": null,
            "visibility": null,
            "width": null
          }
        },
        "5d8e0e45baba4a49b3d703b8c34e37dc": {
          "model_module": "@jupyter-widgets/controls",
          "model_name": "DescriptionStyleModel",
          "model_module_version": "1.5.0",
          "state": {
            "_model_module": "@jupyter-widgets/controls",
            "_model_module_version": "1.5.0",
            "_model_name": "DescriptionStyleModel",
            "_view_count": null,
            "_view_module": "@jupyter-widgets/base",
            "_view_module_version": "1.2.0",
            "_view_name": "StyleView",
            "description_width": ""
          }
        },
        "d8e98d039f66443db6126ee3a2b07ca0": {
          "model_module": "@jupyter-widgets/controls",
          "model_name": "HBoxModel",
          "model_module_version": "1.5.0",
          "state": {
            "_dom_classes": [],
            "_model_module": "@jupyter-widgets/controls",
            "_model_module_version": "1.5.0",
            "_model_name": "HBoxModel",
            "_view_count": null,
            "_view_module": "@jupyter-widgets/controls",
            "_view_module_version": "1.5.0",
            "_view_name": "HBoxView",
            "box_style": "",
            "children": [
              "IPY_MODEL_615df57913ab4231a4f236498699a504",
              "IPY_MODEL_c61ac3646d2d4246a0c2ccbbadf36ee7",
              "IPY_MODEL_c49a5e430d9a4fa797628c9980f3c00c"
            ],
            "layout": "IPY_MODEL_579a8d1c151d479f995d5c8fcd4924e1"
          }
        },
        "615df57913ab4231a4f236498699a504": {
          "model_module": "@jupyter-widgets/controls",
          "model_name": "HTMLModel",
          "model_module_version": "1.5.0",
          "state": {
            "_dom_classes": [],
            "_model_module": "@jupyter-widgets/controls",
            "_model_module_version": "1.5.0",
            "_model_name": "HTMLModel",
            "_view_count": null,
            "_view_module": "@jupyter-widgets/controls",
            "_view_module_version": "1.5.0",
            "_view_name": "HTMLView",
            "description": "",
            "description_tooltip": null,
            "layout": "IPY_MODEL_0f6dcbd2374e48b69716ae9c2448ff31",
            "placeholder": "​",
            "style": "IPY_MODEL_46aadede6dfe4492a3bd00e35ae9826a",
            "value": "Generating validation examples...: 100%"
          }
        },
        "c61ac3646d2d4246a0c2ccbbadf36ee7": {
          "model_module": "@jupyter-widgets/controls",
          "model_name": "FloatProgressModel",
          "model_module_version": "1.5.0",
          "state": {
            "_dom_classes": [],
            "_model_module": "@jupyter-widgets/controls",
            "_model_module_version": "1.5.0",
            "_model_name": "FloatProgressModel",
            "_view_count": null,
            "_view_module": "@jupyter-widgets/controls",
            "_view_module_version": "1.5.0",
            "_view_name": "ProgressView",
            "bar_style": "",
            "description": "",
            "description_tooltip": null,
            "layout": "IPY_MODEL_18a73dc250e346a3aa79951253c0bf06",
            "max": 25250,
            "min": 0,
            "orientation": "horizontal",
            "style": "IPY_MODEL_182b3c5ad8e549d1a956a1fcd4d9a3e6",
            "value": 25250
          }
        },
        "c49a5e430d9a4fa797628c9980f3c00c": {
          "model_module": "@jupyter-widgets/controls",
          "model_name": "HTMLModel",
          "model_module_version": "1.5.0",
          "state": {
            "_dom_classes": [],
            "_model_module": "@jupyter-widgets/controls",
            "_model_module_version": "1.5.0",
            "_model_name": "HTMLModel",
            "_view_count": null,
            "_view_module": "@jupyter-widgets/controls",
            "_view_module_version": "1.5.0",
            "_view_name": "HTMLView",
            "description": "",
            "description_tooltip": null,
            "layout": "IPY_MODEL_6e37824ce2df4555bf00f1c64c2db181",
            "placeholder": "​",
            "style": "IPY_MODEL_fee2a70e935146629ef27b8812984f7e",
            "value": " 25201/25250 [00:49&lt;00:00, 491.70 examples/s]"
          }
        },
        "579a8d1c151d479f995d5c8fcd4924e1": {
          "model_module": "@jupyter-widgets/base",
          "model_name": "LayoutModel",
          "model_module_version": "1.2.0",
          "state": {
            "_model_module": "@jupyter-widgets/base",
            "_model_module_version": "1.2.0",
            "_model_name": "LayoutModel",
            "_view_count": null,
            "_view_module": "@jupyter-widgets/base",
            "_view_module_version": "1.2.0",
            "_view_name": "LayoutView",
            "align_content": null,
            "align_items": null,
            "align_self": null,
            "border": null,
            "bottom": null,
            "display": null,
            "flex": null,
            "flex_flow": null,
            "grid_area": null,
            "grid_auto_columns": null,
            "grid_auto_flow": null,
            "grid_auto_rows": null,
            "grid_column": null,
            "grid_gap": null,
            "grid_row": null,
            "grid_template_areas": null,
            "grid_template_columns": null,
            "grid_template_rows": null,
            "height": null,
            "justify_content": null,
            "justify_items": null,
            "left": null,
            "margin": null,
            "max_height": null,
            "max_width": null,
            "min_height": null,
            "min_width": null,
            "object_fit": null,
            "object_position": null,
            "order": null,
            "overflow": null,
            "overflow_x": null,
            "overflow_y": null,
            "padding": null,
            "right": null,
            "top": null,
            "visibility": "hidden",
            "width": null
          }
        },
        "0f6dcbd2374e48b69716ae9c2448ff31": {
          "model_module": "@jupyter-widgets/base",
          "model_name": "LayoutModel",
          "model_module_version": "1.2.0",
          "state": {
            "_model_module": "@jupyter-widgets/base",
            "_model_module_version": "1.2.0",
            "_model_name": "LayoutModel",
            "_view_count": null,
            "_view_module": "@jupyter-widgets/base",
            "_view_module_version": "1.2.0",
            "_view_name": "LayoutView",
            "align_content": null,
            "align_items": null,
            "align_self": null,
            "border": null,
            "bottom": null,
            "display": null,
            "flex": null,
            "flex_flow": null,
            "grid_area": null,
            "grid_auto_columns": null,
            "grid_auto_flow": null,
            "grid_auto_rows": null,
            "grid_column": null,
            "grid_gap": null,
            "grid_row": null,
            "grid_template_areas": null,
            "grid_template_columns": null,
            "grid_template_rows": null,
            "height": null,
            "justify_content": null,
            "justify_items": null,
            "left": null,
            "margin": null,
            "max_height": null,
            "max_width": null,
            "min_height": null,
            "min_width": null,
            "object_fit": null,
            "object_position": null,
            "order": null,
            "overflow": null,
            "overflow_x": null,
            "overflow_y": null,
            "padding": null,
            "right": null,
            "top": null,
            "visibility": null,
            "width": null
          }
        },
        "46aadede6dfe4492a3bd00e35ae9826a": {
          "model_module": "@jupyter-widgets/controls",
          "model_name": "DescriptionStyleModel",
          "model_module_version": "1.5.0",
          "state": {
            "_model_module": "@jupyter-widgets/controls",
            "_model_module_version": "1.5.0",
            "_model_name": "DescriptionStyleModel",
            "_view_count": null,
            "_view_module": "@jupyter-widgets/base",
            "_view_module_version": "1.2.0",
            "_view_name": "StyleView",
            "description_width": ""
          }
        },
        "18a73dc250e346a3aa79951253c0bf06": {
          "model_module": "@jupyter-widgets/base",
          "model_name": "LayoutModel",
          "model_module_version": "1.2.0",
          "state": {
            "_model_module": "@jupyter-widgets/base",
            "_model_module_version": "1.2.0",
            "_model_name": "LayoutModel",
            "_view_count": null,
            "_view_module": "@jupyter-widgets/base",
            "_view_module_version": "1.2.0",
            "_view_name": "LayoutView",
            "align_content": null,
            "align_items": null,
            "align_self": null,
            "border": null,
            "bottom": null,
            "display": null,
            "flex": null,
            "flex_flow": null,
            "grid_area": null,
            "grid_auto_columns": null,
            "grid_auto_flow": null,
            "grid_auto_rows": null,
            "grid_column": null,
            "grid_gap": null,
            "grid_row": null,
            "grid_template_areas": null,
            "grid_template_columns": null,
            "grid_template_rows": null,
            "height": null,
            "justify_content": null,
            "justify_items": null,
            "left": null,
            "margin": null,
            "max_height": null,
            "max_width": null,
            "min_height": null,
            "min_width": null,
            "object_fit": null,
            "object_position": null,
            "order": null,
            "overflow": null,
            "overflow_x": null,
            "overflow_y": null,
            "padding": null,
            "right": null,
            "top": null,
            "visibility": null,
            "width": null
          }
        },
        "182b3c5ad8e549d1a956a1fcd4d9a3e6": {
          "model_module": "@jupyter-widgets/controls",
          "model_name": "ProgressStyleModel",
          "model_module_version": "1.5.0",
          "state": {
            "_model_module": "@jupyter-widgets/controls",
            "_model_module_version": "1.5.0",
            "_model_name": "ProgressStyleModel",
            "_view_count": null,
            "_view_module": "@jupyter-widgets/base",
            "_view_module_version": "1.2.0",
            "_view_name": "StyleView",
            "bar_color": null,
            "description_width": ""
          }
        },
        "6e37824ce2df4555bf00f1c64c2db181": {
          "model_module": "@jupyter-widgets/base",
          "model_name": "LayoutModel",
          "model_module_version": "1.2.0",
          "state": {
            "_model_module": "@jupyter-widgets/base",
            "_model_module_version": "1.2.0",
            "_model_name": "LayoutModel",
            "_view_count": null,
            "_view_module": "@jupyter-widgets/base",
            "_view_module_version": "1.2.0",
            "_view_name": "LayoutView",
            "align_content": null,
            "align_items": null,
            "align_self": null,
            "border": null,
            "bottom": null,
            "display": null,
            "flex": null,
            "flex_flow": null,
            "grid_area": null,
            "grid_auto_columns": null,
            "grid_auto_flow": null,
            "grid_auto_rows": null,
            "grid_column": null,
            "grid_gap": null,
            "grid_row": null,
            "grid_template_areas": null,
            "grid_template_columns": null,
            "grid_template_rows": null,
            "height": null,
            "justify_content": null,
            "justify_items": null,
            "left": null,
            "margin": null,
            "max_height": null,
            "max_width": null,
            "min_height": null,
            "min_width": null,
            "object_fit": null,
            "object_position": null,
            "order": null,
            "overflow": null,
            "overflow_x": null,
            "overflow_y": null,
            "padding": null,
            "right": null,
            "top": null,
            "visibility": null,
            "width": null
          }
        },
        "fee2a70e935146629ef27b8812984f7e": {
          "model_module": "@jupyter-widgets/controls",
          "model_name": "DescriptionStyleModel",
          "model_module_version": "1.5.0",
          "state": {
            "_model_module": "@jupyter-widgets/controls",
            "_model_module_version": "1.5.0",
            "_model_name": "DescriptionStyleModel",
            "_view_count": null,
            "_view_module": "@jupyter-widgets/base",
            "_view_module_version": "1.2.0",
            "_view_name": "StyleView",
            "description_width": ""
          }
        },
        "a43c8a3a8d624183b3b8da623b8cb086": {
          "model_module": "@jupyter-widgets/controls",
          "model_name": "HBoxModel",
          "model_module_version": "1.5.0",
          "state": {
            "_dom_classes": [],
            "_model_module": "@jupyter-widgets/controls",
            "_model_module_version": "1.5.0",
            "_model_name": "HBoxModel",
            "_view_count": null,
            "_view_module": "@jupyter-widgets/controls",
            "_view_module_version": "1.5.0",
            "_view_name": "HBoxView",
            "box_style": "",
            "children": [
              "IPY_MODEL_9bad385732cf4eab93ed5c6f8787ddf3",
              "IPY_MODEL_0671cc7201a041c6b33d5c14ef295873",
              "IPY_MODEL_2ba66b6c52fb4c4c9316e5eeed9bc121"
            ],
            "layout": "IPY_MODEL_f5561279d74a411f8616858b7aa818da"
          }
        },
        "9bad385732cf4eab93ed5c6f8787ddf3": {
          "model_module": "@jupyter-widgets/controls",
          "model_name": "HTMLModel",
          "model_module_version": "1.5.0",
          "state": {
            "_dom_classes": [],
            "_model_module": "@jupyter-widgets/controls",
            "_model_module_version": "1.5.0",
            "_model_name": "HTMLModel",
            "_view_count": null,
            "_view_module": "@jupyter-widgets/controls",
            "_view_module_version": "1.5.0",
            "_view_name": "HTMLView",
            "description": "",
            "description_tooltip": null,
            "layout": "IPY_MODEL_e2929af56f2449a8adc859f9e845df98",
            "placeholder": "​",
            "style": "IPY_MODEL_cfd7e658e0704640ab0db0491c0bcd67",
            "value": "Shuffling /root/tensorflow_datasets/food101/2.0.0.incompleteF3NSKU/food101-validation.tfrecord*...:  99%"
          }
        },
        "0671cc7201a041c6b33d5c14ef295873": {
          "model_module": "@jupyter-widgets/controls",
          "model_name": "FloatProgressModel",
          "model_module_version": "1.5.0",
          "state": {
            "_dom_classes": [],
            "_model_module": "@jupyter-widgets/controls",
            "_model_module_version": "1.5.0",
            "_model_name": "FloatProgressModel",
            "_view_count": null,
            "_view_module": "@jupyter-widgets/controls",
            "_view_module_version": "1.5.0",
            "_view_name": "ProgressView",
            "bar_style": "",
            "description": "",
            "description_tooltip": null,
            "layout": "IPY_MODEL_d357119a134c46db993ecb29625ba0d0",
            "max": 25250,
            "min": 0,
            "orientation": "horizontal",
            "style": "IPY_MODEL_0ca555f3d5684da3b2a202c70a28b2a4",
            "value": 25250
          }
        },
        "2ba66b6c52fb4c4c9316e5eeed9bc121": {
          "model_module": "@jupyter-widgets/controls",
          "model_name": "HTMLModel",
          "model_module_version": "1.5.0",
          "state": {
            "_dom_classes": [],
            "_model_module": "@jupyter-widgets/controls",
            "_model_module_version": "1.5.0",
            "_model_name": "HTMLModel",
            "_view_count": null,
            "_view_module": "@jupyter-widgets/controls",
            "_view_module_version": "1.5.0",
            "_view_name": "HTMLView",
            "description": "",
            "description_tooltip": null,
            "layout": "IPY_MODEL_9275f14a193240b2a76a40f1714342a2",
            "placeholder": "​",
            "style": "IPY_MODEL_032dc99b4a6143f2a95ee7f85263d8b0",
            "value": " 25112/25250 [00:04&lt;00:00, 5246.65 examples/s]"
          }
        },
        "f5561279d74a411f8616858b7aa818da": {
          "model_module": "@jupyter-widgets/base",
          "model_name": "LayoutModel",
          "model_module_version": "1.2.0",
          "state": {
            "_model_module": "@jupyter-widgets/base",
            "_model_module_version": "1.2.0",
            "_model_name": "LayoutModel",
            "_view_count": null,
            "_view_module": "@jupyter-widgets/base",
            "_view_module_version": "1.2.0",
            "_view_name": "LayoutView",
            "align_content": null,
            "align_items": null,
            "align_self": null,
            "border": null,
            "bottom": null,
            "display": null,
            "flex": null,
            "flex_flow": null,
            "grid_area": null,
            "grid_auto_columns": null,
            "grid_auto_flow": null,
            "grid_auto_rows": null,
            "grid_column": null,
            "grid_gap": null,
            "grid_row": null,
            "grid_template_areas": null,
            "grid_template_columns": null,
            "grid_template_rows": null,
            "height": null,
            "justify_content": null,
            "justify_items": null,
            "left": null,
            "margin": null,
            "max_height": null,
            "max_width": null,
            "min_height": null,
            "min_width": null,
            "object_fit": null,
            "object_position": null,
            "order": null,
            "overflow": null,
            "overflow_x": null,
            "overflow_y": null,
            "padding": null,
            "right": null,
            "top": null,
            "visibility": "hidden",
            "width": null
          }
        },
        "e2929af56f2449a8adc859f9e845df98": {
          "model_module": "@jupyter-widgets/base",
          "model_name": "LayoutModel",
          "model_module_version": "1.2.0",
          "state": {
            "_model_module": "@jupyter-widgets/base",
            "_model_module_version": "1.2.0",
            "_model_name": "LayoutModel",
            "_view_count": null,
            "_view_module": "@jupyter-widgets/base",
            "_view_module_version": "1.2.0",
            "_view_name": "LayoutView",
            "align_content": null,
            "align_items": null,
            "align_self": null,
            "border": null,
            "bottom": null,
            "display": null,
            "flex": null,
            "flex_flow": null,
            "grid_area": null,
            "grid_auto_columns": null,
            "grid_auto_flow": null,
            "grid_auto_rows": null,
            "grid_column": null,
            "grid_gap": null,
            "grid_row": null,
            "grid_template_areas": null,
            "grid_template_columns": null,
            "grid_template_rows": null,
            "height": null,
            "justify_content": null,
            "justify_items": null,
            "left": null,
            "margin": null,
            "max_height": null,
            "max_width": null,
            "min_height": null,
            "min_width": null,
            "object_fit": null,
            "object_position": null,
            "order": null,
            "overflow": null,
            "overflow_x": null,
            "overflow_y": null,
            "padding": null,
            "right": null,
            "top": null,
            "visibility": null,
            "width": null
          }
        },
        "cfd7e658e0704640ab0db0491c0bcd67": {
          "model_module": "@jupyter-widgets/controls",
          "model_name": "DescriptionStyleModel",
          "model_module_version": "1.5.0",
          "state": {
            "_model_module": "@jupyter-widgets/controls",
            "_model_module_version": "1.5.0",
            "_model_name": "DescriptionStyleModel",
            "_view_count": null,
            "_view_module": "@jupyter-widgets/base",
            "_view_module_version": "1.2.0",
            "_view_name": "StyleView",
            "description_width": ""
          }
        },
        "d357119a134c46db993ecb29625ba0d0": {
          "model_module": "@jupyter-widgets/base",
          "model_name": "LayoutModel",
          "model_module_version": "1.2.0",
          "state": {
            "_model_module": "@jupyter-widgets/base",
            "_model_module_version": "1.2.0",
            "_model_name": "LayoutModel",
            "_view_count": null,
            "_view_module": "@jupyter-widgets/base",
            "_view_module_version": "1.2.0",
            "_view_name": "LayoutView",
            "align_content": null,
            "align_items": null,
            "align_self": null,
            "border": null,
            "bottom": null,
            "display": null,
            "flex": null,
            "flex_flow": null,
            "grid_area": null,
            "grid_auto_columns": null,
            "grid_auto_flow": null,
            "grid_auto_rows": null,
            "grid_column": null,
            "grid_gap": null,
            "grid_row": null,
            "grid_template_areas": null,
            "grid_template_columns": null,
            "grid_template_rows": null,
            "height": null,
            "justify_content": null,
            "justify_items": null,
            "left": null,
            "margin": null,
            "max_height": null,
            "max_width": null,
            "min_height": null,
            "min_width": null,
            "object_fit": null,
            "object_position": null,
            "order": null,
            "overflow": null,
            "overflow_x": null,
            "overflow_y": null,
            "padding": null,
            "right": null,
            "top": null,
            "visibility": null,
            "width": null
          }
        },
        "0ca555f3d5684da3b2a202c70a28b2a4": {
          "model_module": "@jupyter-widgets/controls",
          "model_name": "ProgressStyleModel",
          "model_module_version": "1.5.0",
          "state": {
            "_model_module": "@jupyter-widgets/controls",
            "_model_module_version": "1.5.0",
            "_model_name": "ProgressStyleModel",
            "_view_count": null,
            "_view_module": "@jupyter-widgets/base",
            "_view_module_version": "1.2.0",
            "_view_name": "StyleView",
            "bar_color": null,
            "description_width": ""
          }
        },
        "9275f14a193240b2a76a40f1714342a2": {
          "model_module": "@jupyter-widgets/base",
          "model_name": "LayoutModel",
          "model_module_version": "1.2.0",
          "state": {
            "_model_module": "@jupyter-widgets/base",
            "_model_module_version": "1.2.0",
            "_model_name": "LayoutModel",
            "_view_count": null,
            "_view_module": "@jupyter-widgets/base",
            "_view_module_version": "1.2.0",
            "_view_name": "LayoutView",
            "align_content": null,
            "align_items": null,
            "align_self": null,
            "border": null,
            "bottom": null,
            "display": null,
            "flex": null,
            "flex_flow": null,
            "grid_area": null,
            "grid_auto_columns": null,
            "grid_auto_flow": null,
            "grid_auto_rows": null,
            "grid_column": null,
            "grid_gap": null,
            "grid_row": null,
            "grid_template_areas": null,
            "grid_template_columns": null,
            "grid_template_rows": null,
            "height": null,
            "justify_content": null,
            "justify_items": null,
            "left": null,
            "margin": null,
            "max_height": null,
            "max_width": null,
            "min_height": null,
            "min_width": null,
            "object_fit": null,
            "object_position": null,
            "order": null,
            "overflow": null,
            "overflow_x": null,
            "overflow_y": null,
            "padding": null,
            "right": null,
            "top": null,
            "visibility": null,
            "width": null
          }
        },
        "032dc99b4a6143f2a95ee7f85263d8b0": {
          "model_module": "@jupyter-widgets/controls",
          "model_name": "DescriptionStyleModel",
          "model_module_version": "1.5.0",
          "state": {
            "_model_module": "@jupyter-widgets/controls",
            "_model_module_version": "1.5.0",
            "_model_name": "DescriptionStyleModel",
            "_view_count": null,
            "_view_module": "@jupyter-widgets/base",
            "_view_module_version": "1.2.0",
            "_view_name": "StyleView",
            "description_width": ""
          }
        }
      }
    }
  },
  "cells": [
    {
      "cell_type": "markdown",
      "metadata": {
        "id": "view-in-github",
        "colab_type": "text"
      },
      "source": [
        "<a href=\"https://colab.research.google.com/github/bartexx37/MachineLearning/blob/main/07_Food_Vision_project.ipynb\" target=\"_parent\"><img src=\"https://colab.research.google.com/assets/colab-badge.svg\" alt=\"Open In Colab\"/></a>"
      ]
    },
    {
      "cell_type": "code",
      "execution_count": 2,
      "metadata": {
        "colab": {
          "base_uri": "https://localhost:8080/"
        },
        "id": "rjQ8wZr-ueVa",
        "outputId": "2d1719d0-adcc-4eed-9235-1c2454d786d6"
      },
      "outputs": [
        {
          "output_type": "stream",
          "name": "stdout",
          "text": [
            "Mon Feb 13 14:33:41 2023       \n",
            "+-----------------------------------------------------------------------------+\n",
            "| NVIDIA-SMI 510.47.03    Driver Version: 510.47.03    CUDA Version: 11.6     |\n",
            "|-------------------------------+----------------------+----------------------+\n",
            "| GPU  Name        Persistence-M| Bus-Id        Disp.A | Volatile Uncorr. ECC |\n",
            "| Fan  Temp  Perf  Pwr:Usage/Cap|         Memory-Usage | GPU-Util  Compute M. |\n",
            "|                               |                      |               MIG M. |\n",
            "|===============================+======================+======================|\n",
            "|   0  Tesla T4            Off  | 00000000:00:04.0 Off |                    0 |\n",
            "| N/A   40C    P0    25W /  70W |      0MiB / 15360MiB |      0%      Default |\n",
            "|                               |                      |                  N/A |\n",
            "+-------------------------------+----------------------+----------------------+\n",
            "                                                                               \n",
            "+-----------------------------------------------------------------------------+\n",
            "| Processes:                                                                  |\n",
            "|  GPU   GI   CI        PID   Type   Process name                  GPU Memory |\n",
            "|        ID   ID                                                   Usage      |\n",
            "|=============================================================================|\n",
            "|  No running processes found                                                 |\n",
            "+-----------------------------------------------------------------------------+\n"
          ]
        }
      ],
      "source": [
        "!nvidia-smi"
      ]
    },
    {
      "cell_type": "code",
      "source": [
        "import tensorflow as tf\n",
        "import pandas as pd\n",
        "import numpy as np\n",
        "import matplotlib.pyplot as plt"
      ],
      "metadata": {
        "id": "saLgoa91wNAD"
      },
      "execution_count": 3,
      "outputs": []
    },
    {
      "cell_type": "code",
      "source": [
        "!wget https://raw.githubusercontent.com/mrdbourke/tensorflow-deep-learning/main/extras/helper_functions.py"
      ],
      "metadata": {
        "colab": {
          "base_uri": "https://localhost:8080/"
        },
        "id": "9Jfjd39hwS2E",
        "outputId": "6b77fc05-dc77-4842-f89a-4ab8e9f6ac8f"
      },
      "execution_count": 4,
      "outputs": [
        {
          "output_type": "stream",
          "name": "stdout",
          "text": [
            "--2023-02-13 14:33:45--  https://raw.githubusercontent.com/mrdbourke/tensorflow-deep-learning/main/extras/helper_functions.py\n",
            "Resolving raw.githubusercontent.com (raw.githubusercontent.com)... 185.199.108.133, 185.199.109.133, 185.199.110.133, ...\n",
            "Connecting to raw.githubusercontent.com (raw.githubusercontent.com)|185.199.108.133|:443... connected.\n",
            "HTTP request sent, awaiting response... 200 OK\n",
            "Length: 10246 (10K) [text/plain]\n",
            "Saving to: ‘helper_functions.py’\n",
            "\n",
            "\rhelper_functions.py   0%[                    ]       0  --.-KB/s               \rhelper_functions.py 100%[===================>]  10.01K  --.-KB/s    in 0s      \n",
            "\n",
            "2023-02-13 14:33:45 (50.3 MB/s) - ‘helper_functions.py’ saved [10246/10246]\n",
            "\n"
          ]
        }
      ]
    },
    {
      "cell_type": "code",
      "source": [
        "#Getting helper functions\n",
        "import helper_functions as hp"
      ],
      "metadata": {
        "id": "orzOFPezxfWN"
      },
      "execution_count": 5,
      "outputs": []
    },
    {
      "cell_type": "code",
      "source": [
        "#hp.unzip_data(\"101_food_classes_10_percent.zip\")\n",
        "#train_dir = \"101_food_classes_10_percent/train/\"\n",
        "#test_dir = \"101_food_classes_10_percent/test\"\n",
        "train_dir=\"C:/Users/barto/OneDrive/Pulpit/DL_TF/101_food_classes_10_percent/101_food_classes_10_percent/train\"\n",
        "test_dir=\"C:/Users/barto/OneDrive/Pulpit/DL_TF/101_food_classes_10_percent/101_food_classes_10_percent/test\""
      ],
      "metadata": {
        "id": "HHDjmUfXxkfk"
      },
      "execution_count": 6,
      "outputs": []
    },
    {
      "cell_type": "code",
      "source": [
        "#How many images/classes there\n",
        "hp.walk_through_dir(\"101_food_classes_10_percent\")"
      ],
      "metadata": {
        "id": "u8mnOAA5xoYr"
      },
      "execution_count": 7,
      "outputs": []
    },
    {
      "cell_type": "code",
      "source": [
        "#Get tensorflow Datasets\n",
        "import tensorflow_datasets as tfds"
      ],
      "metadata": {
        "id": "po3d1IqzxwHJ"
      },
      "execution_count": 8,
      "outputs": []
    },
    {
      "cell_type": "code",
      "source": [
        "dataset_list=tfds.list_builders()\n",
        "print(\"food101\" in dataset_list)"
      ],
      "metadata": {
        "colab": {
          "base_uri": "https://localhost:8080/"
        },
        "id": "kOQ13Fzsx1OC",
        "outputId": "2c2a56c7-3f9f-460b-b9b9-7b97fe21904b"
      },
      "execution_count": 9,
      "outputs": [
        {
          "output_type": "stream",
          "name": "stdout",
          "text": [
            "True\n"
          ]
        }
      ]
    },
    {
      "cell_type": "code",
      "source": [
        "#Load in the data\n",
        "(train_data, test_data), ds_info = tfds.load(name=\"food101\",\n",
        "                                             split=[\"train\",\"validation\"],\n",
        "                                             shuffle_files=True,\n",
        "                                             as_supervised=True, #Data gets terutned in tuple format (data,label)\n",
        "                                             with_info=True) #Meta-data info"
      ],
      "metadata": {
        "colab": {
          "base_uri": "https://localhost:8080/",
          "height": 148,
          "referenced_widgets": [
            "5f5d6baf93734fbeafae2f7ae0d66481",
            "f763905aef3b4bec99f9dd4c8074a5c7",
            "5807ab47c4484cbd9d1819df0fa88992",
            "f38a68382c6b4c53926ba7a2de29ed75",
            "477039f463df4cf38a4f94cf6f3c8605",
            "2964083e20a94dcf9e460a46a2dd631e",
            "58f3264b91d2433eacc3f307f869771a",
            "66ab2e8092cf401b93461b58bc3bcd09",
            "f8ad2629442a4e31b32609f1a695e478",
            "a3097b8830e9427cbe8a3e59219e45b0",
            "4adedbf26f904c8fb823390c36f7898b",
            "0c6158ba9b3640e79b53b6eba4bfc7f2",
            "8ea8a17c494142cf897837c57845223a",
            "4f176060472d477a91d9dcc22d5f4e8f",
            "6c1fd270993545fbb17cce8b19e5744f",
            "fddbac5aff9c46a880d327184db41003",
            "39a9a599e5ce4d5fb1198c41f6d141ca",
            "95898a3a2e4f41ad8cf0932133f4976a",
            "1655663197e147da9cd0d39192be3759",
            "eecfb7332d6e4f138b02233394cc00b5",
            "73ca065f9dc44c1f90b7af6350968c17",
            "25dd907234cb42c9ad8bdf5b31127e60",
            "c0a02c3ab2ca4c8b8b238160ea49742b",
            "513a023051e244b3bb4fabf1c1a31dee",
            "87cc05882a984ead9805073d4af49361",
            "1d62b4ccbf614a908202ee8bf97da3fd",
            "ab8bb5dccd184d88b2c7081e91ec5ebd",
            "213fb16e8cb047148271ac129a2116e9",
            "8805dc301fc547f993320309b158f731",
            "edeeab11b4e5464aa64a215c7ba64670",
            "cb450b1c47e64fa097d88e98e07d1383",
            "ba2047235e46490783e3be774101b02a",
            "69818733bcd243f59bfb2650613ae640",
            "d01baa55f5d54fd9b045d0eecef92a29",
            "0d368fb4f6bf449ca06983c6793f971c",
            "ac6c310419e34cae94333d9e3a47f5c5",
            "192cbd15e6da4f20ba946995a1ea78b2",
            "35f7a087c02d47d885d36920118f8855",
            "c337bed05caa4a118823ac3f310f3b30",
            "35d6c4a2480c4a7fb5a3b327fc6f4606",
            "bbc20e45639f473fb2edfb2556eded6f",
            "f08cb22a89f9401cb9f3307240ac1a24",
            "b97ecf737f314b4db61db7186319064a",
            "5d8e0e45baba4a49b3d703b8c34e37dc",
            "d8e98d039f66443db6126ee3a2b07ca0",
            "615df57913ab4231a4f236498699a504",
            "c61ac3646d2d4246a0c2ccbbadf36ee7",
            "c49a5e430d9a4fa797628c9980f3c00c",
            "579a8d1c151d479f995d5c8fcd4924e1",
            "0f6dcbd2374e48b69716ae9c2448ff31",
            "46aadede6dfe4492a3bd00e35ae9826a",
            "18a73dc250e346a3aa79951253c0bf06",
            "182b3c5ad8e549d1a956a1fcd4d9a3e6",
            "6e37824ce2df4555bf00f1c64c2db181",
            "fee2a70e935146629ef27b8812984f7e",
            "a43c8a3a8d624183b3b8da623b8cb086",
            "9bad385732cf4eab93ed5c6f8787ddf3",
            "0671cc7201a041c6b33d5c14ef295873",
            "2ba66b6c52fb4c4c9316e5eeed9bc121",
            "f5561279d74a411f8616858b7aa818da",
            "e2929af56f2449a8adc859f9e845df98",
            "cfd7e658e0704640ab0db0491c0bcd67",
            "d357119a134c46db993ecb29625ba0d0",
            "0ca555f3d5684da3b2a202c70a28b2a4",
            "9275f14a193240b2a76a40f1714342a2",
            "032dc99b4a6143f2a95ee7f85263d8b0"
          ]
        },
        "id": "mEXk3-eyyGma",
        "outputId": "f6d740ea-1255-4ff4-eb83-d63b08eb5a52"
      },
      "execution_count": 10,
      "outputs": [
        {
          "output_type": "stream",
          "name": "stdout",
          "text": [
            "Downloading and preparing dataset 4.65 GiB (download: 4.65 GiB, generated: Unknown size, total: 4.65 GiB) to /root/tensorflow_datasets/food101/2.0.0...\n"
          ]
        },
        {
          "output_type": "display_data",
          "data": {
            "text/plain": [
              "Dl Completed...: 0 url [00:00, ? url/s]"
            ],
            "application/vnd.jupyter.widget-view+json": {
              "version_major": 2,
              "version_minor": 0,
              "model_id": "5f5d6baf93734fbeafae2f7ae0d66481"
            }
          },
          "metadata": {}
        },
        {
          "output_type": "display_data",
          "data": {
            "text/plain": [
              "Dl Size...: 0 MiB [00:00, ? MiB/s]"
            ],
            "application/vnd.jupyter.widget-view+json": {
              "version_major": 2,
              "version_minor": 0,
              "model_id": "0c6158ba9b3640e79b53b6eba4bfc7f2"
            }
          },
          "metadata": {}
        },
        {
          "output_type": "display_data",
          "data": {
            "text/plain": [
              "Extraction completed...: 0 file [00:00, ? file/s]"
            ],
            "application/vnd.jupyter.widget-view+json": {
              "version_major": 2,
              "version_minor": 0,
              "model_id": "c0a02c3ab2ca4c8b8b238160ea49742b"
            }
          },
          "metadata": {}
        },
        {
          "output_type": "display_data",
          "data": {
            "text/plain": [
              "Shuffling /root/tensorflow_datasets/food101/2.0.0.incompleteF3NSKU/food101-train.tfrecord*...:   0%|          …"
            ],
            "application/vnd.jupyter.widget-view+json": {
              "version_major": 2,
              "version_minor": 0,
              "model_id": "d01baa55f5d54fd9b045d0eecef92a29"
            }
          },
          "metadata": {}
        },
        {
          "output_type": "display_data",
          "data": {
            "text/plain": [
              "Generating validation examples...:   0%|          | 0/25250 [00:00<?, ? examples/s]"
            ],
            "application/vnd.jupyter.widget-view+json": {
              "version_major": 2,
              "version_minor": 0,
              "model_id": "d8e98d039f66443db6126ee3a2b07ca0"
            }
          },
          "metadata": {}
        },
        {
          "output_type": "display_data",
          "data": {
            "text/plain": [
              "Shuffling /root/tensorflow_datasets/food101/2.0.0.incompleteF3NSKU/food101-validation.tfrecord*...:   0%|     …"
            ],
            "application/vnd.jupyter.widget-view+json": {
              "version_major": 2,
              "version_minor": 0,
              "model_id": "a43c8a3a8d624183b3b8da623b8cb086"
            }
          },
          "metadata": {}
        },
        {
          "output_type": "stream",
          "name": "stdout",
          "text": [
            "Dataset food101 downloaded and prepared to /root/tensorflow_datasets/food101/2.0.0. Subsequent calls will reuse this data.\n"
          ]
        }
      ]
    },
    {
      "cell_type": "code",
      "source": [
        "ds_info.features"
      ],
      "metadata": {
        "colab": {
          "base_uri": "https://localhost:8080/"
        },
        "id": "myTk-6xRyJ_E",
        "outputId": "96f9a598-09d2-4db0-81db-2f7635a2fd0f"
      },
      "execution_count": 11,
      "outputs": [
        {
          "output_type": "execute_result",
          "data": {
            "text/plain": [
              "FeaturesDict({\n",
              "    'image': Image(shape=(None, None, 3), dtype=uint8),\n",
              "    'label': ClassLabel(shape=(), dtype=int64, num_classes=101),\n",
              "})"
            ]
          },
          "metadata": {},
          "execution_count": 11
        }
      ]
    },
    {
      "cell_type": "code",
      "source": [
        "class_names = ds_info.features[\"label\"].names\n",
        "class_names[:10]"
      ],
      "metadata": {
        "colab": {
          "base_uri": "https://localhost:8080/"
        },
        "id": "zDI-5tphyNDs",
        "outputId": "c419d50d-59e2-4e89-e20d-a9da57974f69"
      },
      "execution_count": 12,
      "outputs": [
        {
          "output_type": "execute_result",
          "data": {
            "text/plain": [
              "['apple_pie',\n",
              " 'baby_back_ribs',\n",
              " 'baklava',\n",
              " 'beef_carpaccio',\n",
              " 'beef_tartare',\n",
              " 'beet_salad',\n",
              " 'beignets',\n",
              " 'bibimbap',\n",
              " 'bread_pudding',\n",
              " 'breakfast_burrito']"
            ]
          },
          "metadata": {},
          "execution_count": 12
        }
      ]
    },
    {
      "cell_type": "code",
      "source": [
        "#Take one sample of train_data\n",
        "train_one_sample = train_data.take(1) # Foremat (image tensor, label)\n",
        "train_one_sample"
      ],
      "metadata": {
        "colab": {
          "base_uri": "https://localhost:8080/"
        },
        "id": "cbZ3bZwkyTQi",
        "outputId": "2ce16f81-28ec-4a27-96e3-296384bf8e8e"
      },
      "execution_count": 13,
      "outputs": [
        {
          "output_type": "execute_result",
          "data": {
            "text/plain": [
              "<TakeDataset element_spec=(TensorSpec(shape=(None, None, 3), dtype=tf.uint8, name=None), TensorSpec(shape=(), dtype=tf.int64, name=None))>"
            ]
          },
          "metadata": {},
          "execution_count": 13
        }
      ]
    },
    {
      "cell_type": "code",
      "source": [
        "for image, label in train_one_sample:\n",
        "    print(f\"Image shape: {image.shape}, \\nImage dtype: {image.dtype},\\n Target class from food (tensor form): {label}, \\nClass name {class_names[label.numpy()]}\")"
      ],
      "metadata": {
        "colab": {
          "base_uri": "https://localhost:8080/"
        },
        "id": "ukUVCc_MyVTD",
        "outputId": "b15a496b-38ca-4288-c5c4-fe8aa8935d73"
      },
      "execution_count": 14,
      "outputs": [
        {
          "output_type": "stream",
          "name": "stdout",
          "text": [
            "Image shape: (341, 512, 3), \n",
            "Image dtype: <dtype: 'uint8'>,\n",
            " Target class from food (tensor form): 98, \n",
            "Class name tiramisu\n"
          ]
        }
      ]
    },
    {
      "cell_type": "code",
      "source": [
        "import tensorflow as tf\n",
        "#As it can be seen, labels are not onehot encoded\n",
        "#Check how image look like\n",
        "image, tf.reduce_min(image), tf.reduce_max(image)"
      ],
      "metadata": {
        "colab": {
          "base_uri": "https://localhost:8080/"
        },
        "id": "Ucf2o6AnydaR",
        "outputId": "03450f22-8d0e-49ae-d5cf-d5e32db5c204"
      },
      "execution_count": 15,
      "outputs": [
        {
          "output_type": "execute_result",
          "data": {
            "text/plain": [
              "(<tf.Tensor: shape=(341, 512, 3), dtype=uint8, numpy=\n",
              " array([[[  2,   2,   0],\n",
              "         [  2,   2,   0],\n",
              "         [  2,   2,   0],\n",
              "         ...,\n",
              "         [  0,   3,   0],\n",
              "         [  0,   4,   0],\n",
              "         [  0,   4,   0]],\n",
              " \n",
              "        [[  2,   2,   0],\n",
              "         [  2,   2,   0],\n",
              "         [  3,   3,   1],\n",
              "         ...,\n",
              "         [  1,   3,   0],\n",
              "         [  0,   4,   0],\n",
              "         [  0,   4,   0]],\n",
              " \n",
              "        [[  5,   6,   1],\n",
              "         [  5,   6,   1],\n",
              "         [  5,   6,   1],\n",
              "         ...,\n",
              "         [  1,   3,   0],\n",
              "         [  0,   4,   0],\n",
              "         [  0,   5,   1]],\n",
              " \n",
              "        ...,\n",
              " \n",
              "        [[143,  75,  10],\n",
              "         [149,  81,  16],\n",
              "         [150,  85,  19],\n",
              "         ...,\n",
              "         [162,  88,  25],\n",
              "         [150,  79,  17],\n",
              "         [135,  65,   5]],\n",
              " \n",
              "        [[144,  76,  11],\n",
              "         [152,  84,  19],\n",
              "         [145,  80,  16],\n",
              "         ...,\n",
              "         [126,  60,  12],\n",
              "         [111,  50,   3],\n",
              "         [ 95,  37,   0]],\n",
              " \n",
              "        [[145,  77,  14],\n",
              "         [150,  82,  19],\n",
              "         [139,  74,  10],\n",
              "         ...,\n",
              "         [ 89,  35,   1],\n",
              "         [ 75,  29,   0],\n",
              "         [ 64,  19,   0]]], dtype=uint8)>,\n",
              " <tf.Tensor: shape=(), dtype=uint8, numpy=0>,\n",
              " <tf.Tensor: shape=(), dtype=uint8, numpy=255>)"
            ]
          },
          "metadata": {},
          "execution_count": 15
        }
      ]
    },
    {
      "cell_type": "code",
      "source": [
        "#Plot image\n",
        "import matplotlib.pyplot as plt\n",
        "plt.imshow(image)\n",
        "plt.title(class_names[label.numpy()])\n",
        "plt.axis(False);"
      ],
      "metadata": {
        "colab": {
          "base_uri": "https://localhost:8080/",
          "height": 264
        },
        "id": "lzGop-GAyfh2",
        "outputId": "e0f22b15-b095-47c2-ac42-3e3d8653c21e"
      },
      "execution_count": 16,
      "outputs": [
        {
          "output_type": "display_data",
          "data": {
            "text/plain": [
              "<Figure size 432x288 with 1 Axes>"
            ],
            "image/png": "[encoded data removed]"
          },
          "metadata": {
            "needs_background": "light"
          }
        }
      ]
    },
    {
      "cell_type": "markdown",
      "source": [
        "**PREPROCESS DATA TO MODELS TRAINING**\n",
        "- Good shape\n",
        "- Normalize -> between (0-1) generally performs better\n",
        "- Data type -> models like float32 and with mixed precision float16/float32\n",
        "- batches? -> Like all of the tensord within a batfch be the same size\n",
        "\n",
        "**NOW DATA IS**\n",
        "- In uint8 datatype\n",
        "- With different size tensors\n",
        "- Is not scaled              \n"
      ],
      "metadata": {
        "id": "fSuJU8jYy1cQ"
      }
    },
    {
      "cell_type": "code",
      "source": [
        "#EfficientNetBx will be used, which has scaling built in, so rescaling is not needed in this case\n",
        "\n",
        "#1. Reshape to same size\n",
        "#2. Convert the dtype of images to float32"
      ],
      "metadata": {
        "id": "FYqhogyUy7ye"
      },
      "execution_count": 17,
      "outputs": []
    },
    {
      "cell_type": "code",
      "source": [
        "#Function to preprocess img\n",
        "def preprocess_img(image,label,img_shape=224):\n",
        "    '''\n",
        "    Convert image datatype to float32 and reshapes\n",
        "    image to  [img_shape,img_shape,color_channels]\n",
        "    '''\n",
        "    \n",
        "    img=tf.image.resize(image,[img_shape,img_shape])\n",
        "    return tf.cast(img, tf.float32), label # return (float32_image,label)"
      ],
      "metadata": {
        "id": "mTrQL9PVzFw3"
      },
      "execution_count": 18,
      "outputs": []
    },
    {
      "cell_type": "code",
      "source": [
        "#preprocess single sample to check \n",
        "preprocessed_image = preprocess_img(image,label)[0]\n",
        "print(f\"Image before prep:\\n {image[:2]}... \\nShape: {image.shape}\\nDatatype: {image.dtype}\\n Prep image:\\n{preprocessed_image[:2]}...\\nShape: {preprocessed_image.shape}\\nDatatype:{preprocessed_image.dtype}\")"
      ],
      "metadata": {
        "colab": {
          "base_uri": "https://localhost:8080/"
        },
        "id": "r0ecvAvSzIJt",
        "outputId": "acfcbd47-bbd6-4753-f61b-ff3868a33dc5"
      },
      "execution_count": 19,
      "outputs": [
        {
          "output_type": "stream",
          "name": "stdout",
          "text": [
            "Image before prep:\n",
            " [[[2 2 0]\n",
            "  [2 2 0]\n",
            "  [2 2 0]\n",
            "  ...\n",
            "  [0 3 0]\n",
            "  [0 4 0]\n",
            "  [0 4 0]]\n",
            "\n",
            " [[2 2 0]\n",
            "  [2 2 0]\n",
            "  [3 3 1]\n",
            "  ...\n",
            "  [1 3 0]\n",
            "  [0 4 0]\n",
            "  [0 4 0]]]... \n",
            "Shape: (341, 512, 3)\n",
            "Datatype: <dtype: 'uint8'>\n",
            " Prep image:\n",
            "[[[2.         2.         0.        ]\n",
            "  [2.947226   2.947226   0.947226  ]\n",
            "  [4.         5.         0.        ]\n",
            "  ...\n",
            "  [1.         3.         0.        ]\n",
            "  [0.01865775 2.757497   0.        ]\n",
            "  [0.         4.         0.        ]]\n",
            "\n",
            " [[4.350446   5.1339283  0.7834821 ]\n",
            "  [4.566964   5.350446   1.        ]\n",
            "  [4.783482   5.783482   0.7834821 ]\n",
            "  ...\n",
            "  [1.         3.         0.        ]\n",
            "  [0.7989505  2.7989504  0.        ]\n",
            "  [0.         4.2798424  0.27984235]]]...\n",
            "Shape: (224, 224, 3)\n",
            "Datatype:<dtype: 'float32'>\n"
          ]
        }
      ]
    },
    {
      "cell_type": "markdown",
      "source": [
        "**Batch and prepare datasets**\n",
        "- input pipelines\n",
        "\n",
        "Map preprocessing function to training (and parallelize)"
      ],
      "metadata": {
        "id": "ATrR47GN1Znb"
      }
    },
    {
      "cell_type": "code",
      "source": [
        "#Mapping\n",
        "train_data = train_data.map(map_func=preprocess_img, num_parallel_calls=tf.data.AUTOTUNE)#PO to, żeby możliwie jak największą\n",
        "                                                                                         #liczbe chipów CPU wykorzysytwał równolegle\n",
        "                                                                                         #Po defaultowo tylko 1 i wolniej\n",
        "#Shuffle train_data and turn it into batches and prefetch it (load faster)\n",
        "train_data = train_data.shuffle(buffer_size=1000).batch(batch_size=32).prefetch(buffer_size=tf.data.AUTOTUNE) \n",
        "#shuffle(buffer_size Parameter say how many elements to shuffle in one moment, pamięć RAM może ograniczać ilość, stad nie całość na raz\n",
        "\n",
        "#Map preprocessing function to test data\n",
        "test_data = test_data.map(map_func=preprocess_img, num_parallel_calls=tf.data.AUTOTUNE).batch(batch_size=32).prefetch(tf.data.AUTOTUNE)\n",
        "#prefetch - while program find patterns in one batch, during that time get another batch ready - pobierać wstępnie\n",
        "#.catch() - zapisuje co sie dzieje w pamięci RAM, żeby pamietało, ale zapycha to RAM więc zależy"
      ],
      "metadata": {
        "id": "s0OY9sxr1dfO"
      },
      "execution_count": 20,
      "outputs": []
    },
    {
      "cell_type": "code",
      "source": [
        "train_data,test_data"
      ],
      "metadata": {
        "colab": {
          "base_uri": "https://localhost:8080/"
        },
        "id": "LaEjK9N31f33",
        "outputId": "2cb85f8c-b591-4fc2-ae3a-b4d5b0f66d8c"
      },
      "execution_count": 21,
      "outputs": [
        {
          "output_type": "execute_result",
          "data": {
            "text/plain": [
              "(<PrefetchDataset element_spec=(TensorSpec(shape=(None, 224, 224, 3), dtype=tf.float32, name=None), TensorSpec(shape=(None,), dtype=tf.int64, name=None))>,\n",
              " <PrefetchDataset element_spec=(TensorSpec(shape=(None, 224, 224, 3), dtype=tf.float32, name=None), TensorSpec(shape=(None,), dtype=tf.int64, name=None))>)"
            ]
          },
          "metadata": {},
          "execution_count": 21
        }
      ]
    },
    {
      "cell_type": "markdown",
      "source": [
        "Creating model callback"
      ],
      "metadata": {
        "id": "BUK216_d1zW6"
      }
    },
    {
      "cell_type": "code",
      "source": [
        "tensorboard_callback = hp.create_tensorboard_callback(dir_name=\"C:/Users/barto/OneDrive/Pulpit/DL_TF/t_board_food_app\",\n",
        "                               experiment_name=\"Vision_App\")\n",
        "\n",
        "checkpoint_path = \"C:/Users/barto/OneDrive/Pulpit/DL_TF/foodapp.ckpt\"\n",
        "model_checkpoint = tf.keras.callbacks.ModelCheckpoint(checkpoint_path,\n",
        "                                                      monitor=\"val_acc\",\n",
        "                                                      save_best_only=True,\n",
        "                                                      save_weights_only=True,\n",
        "                                                      verbose=0)"
      ],
      "metadata": {
        "colab": {
          "base_uri": "https://localhost:8080/"
        },
        "id": "mrbgKaW312PF",
        "outputId": "3c4e8cc1-39af-4a99-fbe4-cbd05ab1b1e6"
      },
      "execution_count": 22,
      "outputs": [
        {
          "output_type": "stream",
          "name": "stdout",
          "text": [
            "Saving TensorBoard log files to: C:/Users/barto/OneDrive/Pulpit/DL_TF/t_board_food_app/Vision_App/20230213-144409\n"
          ]
        }
      ]
    },
    {
      "cell_type": "markdown",
      "source": [
        "**MIXED PRECISION TRAINING**"
      ],
      "metadata": {
        "id": "7CEansaC13zm"
      }
    },
    {
      "cell_type": "code",
      "source": [
        "#Turn on mixed precision training\n",
        "from tensorflow.keras import mixed_precision\n",
        "mixed_precision.set_global_policy(\"mixed_float16\")#Set global data policy to mixed precision\n",
        "#For any part of tensorflow models learning if possible it combinates float32 with float16 to speed up model performance\n",
        "mixed_precision.global_policy()"
      ],
      "metadata": {
        "colab": {
          "base_uri": "https://localhost:8080/"
        },
        "id": "1XxQl2xO18Xp",
        "outputId": "6dc286b8-8d0c-45d7-f90e-63d62c43a2b8"
      },
      "execution_count": 23,
      "outputs": [
        {
          "output_type": "execute_result",
          "data": {
            "text/plain": [
              "<Policy \"mixed_float16\">"
            ]
          },
          "metadata": {},
          "execution_count": 23
        }
      ]
    },
    {
      "cell_type": "markdown",
      "source": [
        "**BUILDING FEATURE EXTRACTION MODEL**"
      ],
      "metadata": {
        "id": "c4IGPrVY18yN"
      }
    },
    {
      "cell_type": "code",
      "source": [
        "from tensorflow.keras.layers.experimental import preprocessing\n",
        "augmentation_layer = tf.keras.Sequential([\n",
        "    preprocessing.RandomRotation(0.2),\n",
        "    preprocessing.RandomFlip(),\n",
        "    preprocessing.RandomZoom(0.2),\n",
        "    preprocessing.RandomHeight(0.2)\n",
        "],name=\"Augmentation_Layer\")"
      ],
      "metadata": {
        "id": "v7a4AMrf2WuA"
      },
      "execution_count": 24,
      "outputs": []
    },
    {
      "cell_type": "code",
      "source": [
        "base_model = tf.keras.applications.EfficientNetB0(include_top=False)\n",
        "base_model.trainable = False\n",
        "\n",
        "inputs = tf.keras.layers.Input(shape=(224,224,3),name=\"Input_Layer\")\n",
        "\n",
        "#If  scaling woulkd be needed then\n",
        "#x= preprocessing.Rescaling(1/255.)(X) or in augmentation layer \n",
        "\n",
        "#x = augmentation_layer(inputs)\n",
        "x = base_model(inputs,training=False)\n",
        "x = tf.keras.layers.GlobalAveragePooling2D(name=\"Polling\")(x)\n",
        "x = tf.keras.layers.Dense(101)(x)\n",
        "outputs = tf.keras.layers.Activation(\"softmax\",dtype=tf.float32,name=\"softmax_float32\")(x)\n",
        "\n",
        "model = tf.keras.Model(inputs,outputs)\n",
        "\n",
        "#Compile the model\n",
        "model.compile(loss=\"sparse_categorical_crossentropy\", # Because this time labeles are not onehot encoded\n",
        "              optimizer=tf.keras.optimizers.Adam(),\n",
        "              metrics=[\"accuracy\"])"
      ],
      "metadata": {
        "colab": {
          "base_uri": "https://localhost:8080/"
        },
        "id": "ru6Jg3072XAz",
        "outputId": "e2e43fbe-60a4-432d-9a47-c3373b5ed87a"
      },
      "execution_count": 25,
      "outputs": [
        {
          "output_type": "stream",
          "name": "stdout",
          "text": [
            "Downloading data from https://storage.googleapis.com/keras-applications/efficientnetb0_notop.h5\n",
            "16705208/16705208 [==============================] - 1s 0us/step\n"
          ]
        }
      ]
    },
    {
      "cell_type": "code",
      "source": [
        "model.summary()"
      ],
      "metadata": {
        "colab": {
          "base_uri": "https://localhost:8080/"
        },
        "id": "KGamOs6I2Za-",
        "outputId": "5ecf87b2-03b7-4c69-ceeb-9e8e636dbdcc"
      },
      "execution_count": 26,
      "outputs": [
        {
          "output_type": "stream",
          "name": "stdout",
          "text": [
            "Model: \"model\"\n",
            "_________________________________________________________________\n",
            " Layer (type)                Output Shape              Param #   \n",
            "=================================================================\n",
            " Input_Layer (InputLayer)    [(None, 224, 224, 3)]     0         \n",
            "                                                                 \n",
            " efficientnetb0 (Functional)  (None, None, None, 1280)  4049571  \n",
            "                                                                 \n",
            " Polling (GlobalAveragePooli  (None, 1280)             0         \n",
            " ng2D)                                                           \n",
            "                                                                 \n",
            " dense (Dense)               (None, 101)               129381    \n",
            "                                                                 \n",
            " softmax_float32 (Activation  (None, 101)              0         \n",
            " )                                                               \n",
            "                                                                 \n",
            "=================================================================\n",
            "Total params: 4,178,952\n",
            "Trainable params: 129,381\n",
            "Non-trainable params: 4,049,571\n",
            "_________________________________________________________________\n"
          ]
        }
      ]
    },
    {
      "cell_type": "code",
      "source": [
        "#Check dtype of base model\n",
        "for layer in base_model.layers:\n",
        "    print(layer.name,layer.dtype, layer.dtype_policy)"
      ],
      "metadata": {
        "colab": {
          "base_uri": "https://localhost:8080/"
        },
        "id": "MPkkpJPy2zho",
        "outputId": "2246430c-106a-464a-b4f5-ccbdbb1a4a4b"
      },
      "execution_count": 27,
      "outputs": [
        {
          "output_type": "stream",
          "name": "stdout",
          "text": [
            "input_1 float32 <Policy \"float32\">\n",
            "rescaling float32 <Policy \"mixed_float16\">\n",
            "normalization float32 <Policy \"mixed_float16\">\n",
            "rescaling_1 float32 <Policy \"mixed_float16\">\n",
            "stem_conv_pad float32 <Policy \"mixed_float16\">\n",
            "stem_conv float32 <Policy \"mixed_float16\">\n",
            "stem_bn float32 <Policy \"mixed_float16\">\n",
            "stem_activation float32 <Policy \"mixed_float16\">\n",
            "block1a_dwconv float32 <Policy \"mixed_float16\">\n",
            "block1a_bn float32 <Policy \"mixed_float16\">\n",
            "block1a_activation float32 <Policy \"mixed_float16\">\n",
            "block1a_se_squeeze float32 <Policy \"mixed_float16\">\n",
            "block1a_se_reshape float32 <Policy \"mixed_float16\">\n",
            "block1a_se_reduce float32 <Policy \"mixed_float16\">\n",
            "block1a_se_expand float32 <Policy \"mixed_float16\">\n",
            "block1a_se_excite float32 <Policy \"mixed_float16\">\n",
            "block1a_project_conv float32 <Policy \"mixed_float16\">\n",
            "block1a_project_bn float32 <Policy \"mixed_float16\">\n",
            "block2a_expand_conv float32 <Policy \"mixed_float16\">\n",
            "block2a_expand_bn float32 <Policy \"mixed_float16\">\n",
            "block2a_expand_activation float32 <Policy \"mixed_float16\">\n",
            "block2a_dwconv_pad float32 <Policy \"mixed_float16\">\n",
            "block2a_dwconv float32 <Policy \"mixed_float16\">\n",
            "block2a_bn float32 <Policy \"mixed_float16\">\n",
            "block2a_activation float32 <Policy \"mixed_float16\">\n",
            "block2a_se_squeeze float32 <Policy \"mixed_float16\">\n",
            "block2a_se_reshape float32 <Policy \"mixed_float16\">\n",
            "block2a_se_reduce float32 <Policy \"mixed_float16\">\n",
            "block2a_se_expand float32 <Policy \"mixed_float16\">\n",
            "block2a_se_excite float32 <Policy \"mixed_float16\">\n",
            "block2a_project_conv float32 <Policy \"mixed_float16\">\n",
            "block2a_project_bn float32 <Policy \"mixed_float16\">\n",
            "block2b_expand_conv float32 <Policy \"mixed_float16\">\n",
            "block2b_expand_bn float32 <Policy \"mixed_float16\">\n",
            "block2b_expand_activation float32 <Policy \"mixed_float16\">\n",
            "block2b_dwconv float32 <Policy \"mixed_float16\">\n",
            "block2b_bn float32 <Policy \"mixed_float16\">\n",
            "block2b_activation float32 <Policy \"mixed_float16\">\n",
            "block2b_se_squeeze float32 <Policy \"mixed_float16\">\n",
            "block2b_se_reshape float32 <Policy \"mixed_float16\">\n",
            "block2b_se_reduce float32 <Policy \"mixed_float16\">\n",
            "block2b_se_expand float32 <Policy \"mixed_float16\">\n",
            "block2b_se_excite float32 <Policy \"mixed_float16\">\n",
            "block2b_project_conv float32 <Policy \"mixed_float16\">\n",
            "block2b_project_bn float32 <Policy \"mixed_float16\">\n",
            "block2b_drop float32 <Policy \"mixed_float16\">\n",
            "block2b_add float32 <Policy \"mixed_float16\">\n",
            "block3a_expand_conv float32 <Policy \"mixed_float16\">\n",
            "block3a_expand_bn float32 <Policy \"mixed_float16\">\n",
            "block3a_expand_activation float32 <Policy \"mixed_float16\">\n",
            "block3a_dwconv_pad float32 <Policy \"mixed_float16\">\n",
            "block3a_dwconv float32 <Policy \"mixed_float16\">\n",
            "block3a_bn float32 <Policy \"mixed_float16\">\n",
            "block3a_activation float32 <Policy \"mixed_float16\">\n",
            "block3a_se_squeeze float32 <Policy \"mixed_float16\">\n",
            "block3a_se_reshape float32 <Policy \"mixed_float16\">\n",
            "block3a_se_reduce float32 <Policy \"mixed_float16\">\n",
            "block3a_se_expand float32 <Policy \"mixed_float16\">\n",
            "block3a_se_excite float32 <Policy \"mixed_float16\">\n",
            "block3a_project_conv float32 <Policy \"mixed_float16\">\n",
            "block3a_project_bn float32 <Policy \"mixed_float16\">\n",
            "block3b_expand_conv float32 <Policy \"mixed_float16\">\n",
            "block3b_expand_bn float32 <Policy \"mixed_float16\">\n",
            "block3b_expand_activation float32 <Policy \"mixed_float16\">\n",
            "block3b_dwconv float32 <Policy \"mixed_float16\">\n",
            "block3b_bn float32 <Policy \"mixed_float16\">\n",
            "block3b_activation float32 <Policy \"mixed_float16\">\n",
            "block3b_se_squeeze float32 <Policy \"mixed_float16\">\n",
            "block3b_se_reshape float32 <Policy \"mixed_float16\">\n",
            "block3b_se_reduce float32 <Policy \"mixed_float16\">\n",
            "block3b_se_expand float32 <Policy \"mixed_float16\">\n",
            "block3b_se_excite float32 <Policy \"mixed_float16\">\n",
            "block3b_project_conv float32 <Policy \"mixed_float16\">\n",
            "block3b_project_bn float32 <Policy \"mixed_float16\">\n",
            "block3b_drop float32 <Policy \"mixed_float16\">\n",
            "block3b_add float32 <Policy \"mixed_float16\">\n",
            "block4a_expand_conv float32 <Policy \"mixed_float16\">\n",
            "block4a_expand_bn float32 <Policy \"mixed_float16\">\n",
            "block4a_expand_activation float32 <Policy \"mixed_float16\">\n",
            "block4a_dwconv_pad float32 <Policy \"mixed_float16\">\n",
            "block4a_dwconv float32 <Policy \"mixed_float16\">\n",
            "block4a_bn float32 <Policy \"mixed_float16\">\n",
            "block4a_activation float32 <Policy \"mixed_float16\">\n",
            "block4a_se_squeeze float32 <Policy \"mixed_float16\">\n",
            "block4a_se_reshape float32 <Policy \"mixed_float16\">\n",
            "block4a_se_reduce float32 <Policy \"mixed_float16\">\n",
            "block4a_se_expand float32 <Policy \"mixed_float16\">\n",
            "block4a_se_excite float32 <Policy \"mixed_float16\">\n",
            "block4a_project_conv float32 <Policy \"mixed_float16\">\n",
            "block4a_project_bn float32 <Policy \"mixed_float16\">\n",
            "block4b_expand_conv float32 <Policy \"mixed_float16\">\n",
            "block4b_expand_bn float32 <Policy \"mixed_float16\">\n",
            "block4b_expand_activation float32 <Policy \"mixed_float16\">\n",
            "block4b_dwconv float32 <Policy \"mixed_float16\">\n",
            "block4b_bn float32 <Policy \"mixed_float16\">\n",
            "block4b_activation float32 <Policy \"mixed_float16\">\n",
            "block4b_se_squeeze float32 <Policy \"mixed_float16\">\n",
            "block4b_se_reshape float32 <Policy \"mixed_float16\">\n",
            "block4b_se_reduce float32 <Policy \"mixed_float16\">\n",
            "block4b_se_expand float32 <Policy \"mixed_float16\">\n",
            "block4b_se_excite float32 <Policy \"mixed_float16\">\n",
            "block4b_project_conv float32 <Policy \"mixed_float16\">\n",
            "block4b_project_bn float32 <Policy \"mixed_float16\">\n",
            "block4b_drop float32 <Policy \"mixed_float16\">\n",
            "block4b_add float32 <Policy \"mixed_float16\">\n",
            "block4c_expand_conv float32 <Policy \"mixed_float16\">\n",
            "block4c_expand_bn float32 <Policy \"mixed_float16\">\n",
            "block4c_expand_activation float32 <Policy \"mixed_float16\">\n",
            "block4c_dwconv float32 <Policy \"mixed_float16\">\n",
            "block4c_bn float32 <Policy \"mixed_float16\">\n",
            "block4c_activation float32 <Policy \"mixed_float16\">\n",
            "block4c_se_squeeze float32 <Policy \"mixed_float16\">\n",
            "block4c_se_reshape float32 <Policy \"mixed_float16\">\n",
            "block4c_se_reduce float32 <Policy \"mixed_float16\">\n",
            "block4c_se_expand float32 <Policy \"mixed_float16\">\n",
            "block4c_se_excite float32 <Policy \"mixed_float16\">\n",
            "block4c_project_conv float32 <Policy \"mixed_float16\">\n",
            "block4c_project_bn float32 <Policy \"mixed_float16\">\n",
            "block4c_drop float32 <Policy \"mixed_float16\">\n",
            "block4c_add float32 <Policy \"mixed_float16\">\n",
            "block5a_expand_conv float32 <Policy \"mixed_float16\">\n",
            "block5a_expand_bn float32 <Policy \"mixed_float16\">\n",
            "block5a_expand_activation float32 <Policy \"mixed_float16\">\n",
            "block5a_dwconv float32 <Policy \"mixed_float16\">\n",
            "block5a_bn float32 <Policy \"mixed_float16\">\n",
            "block5a_activation float32 <Policy \"mixed_float16\">\n",
            "block5a_se_squeeze float32 <Policy \"mixed_float16\">\n",
            "block5a_se_reshape float32 <Policy \"mixed_float16\">\n",
            "block5a_se_reduce float32 <Policy \"mixed_float16\">\n",
            "block5a_se_expand float32 <Policy \"mixed_float16\">\n",
            "block5a_se_excite float32 <Policy \"mixed_float16\">\n",
            "block5a_project_conv float32 <Policy \"mixed_float16\">\n",
            "block5a_project_bn float32 <Policy \"mixed_float16\">\n",
            "block5b_expand_conv float32 <Policy \"mixed_float16\">\n",
            "block5b_expand_bn float32 <Policy \"mixed_float16\">\n",
            "block5b_expand_activation float32 <Policy \"mixed_float16\">\n",
            "block5b_dwconv float32 <Policy \"mixed_float16\">\n",
            "block5b_bn float32 <Policy \"mixed_float16\">\n",
            "block5b_activation float32 <Policy \"mixed_float16\">\n",
            "block5b_se_squeeze float32 <Policy \"mixed_float16\">\n",
            "block5b_se_reshape float32 <Policy \"mixed_float16\">\n",
            "block5b_se_reduce float32 <Policy \"mixed_float16\">\n",
            "block5b_se_expand float32 <Policy \"mixed_float16\">\n",
            "block5b_se_excite float32 <Policy \"mixed_float16\">\n",
            "block5b_project_conv float32 <Policy \"mixed_float16\">\n",
            "block5b_project_bn float32 <Policy \"mixed_float16\">\n",
            "block5b_drop float32 <Policy \"mixed_float16\">\n",
            "block5b_add float32 <Policy \"mixed_float16\">\n",
            "block5c_expand_conv float32 <Policy \"mixed_float16\">\n",
            "block5c_expand_bn float32 <Policy \"mixed_float16\">\n",
            "block5c_expand_activation float32 <Policy \"mixed_float16\">\n",
            "block5c_dwconv float32 <Policy \"mixed_float16\">\n",
            "block5c_bn float32 <Policy \"mixed_float16\">\n",
            "block5c_activation float32 <Policy \"mixed_float16\">\n",
            "block5c_se_squeeze float32 <Policy \"mixed_float16\">\n",
            "block5c_se_reshape float32 <Policy \"mixed_float16\">\n",
            "block5c_se_reduce float32 <Policy \"mixed_float16\">\n",
            "block5c_se_expand float32 <Policy \"mixed_float16\">\n",
            "block5c_se_excite float32 <Policy \"mixed_float16\">\n",
            "block5c_project_conv float32 <Policy \"mixed_float16\">\n",
            "block5c_project_bn float32 <Policy \"mixed_float16\">\n",
            "block5c_drop float32 <Policy \"mixed_float16\">\n",
            "block5c_add float32 <Policy \"mixed_float16\">\n",
            "block6a_expand_conv float32 <Policy \"mixed_float16\">\n",
            "block6a_expand_bn float32 <Policy \"mixed_float16\">\n",
            "block6a_expand_activation float32 <Policy \"mixed_float16\">\n",
            "block6a_dwconv_pad float32 <Policy \"mixed_float16\">\n",
            "block6a_dwconv float32 <Policy \"mixed_float16\">\n",
            "block6a_bn float32 <Policy \"mixed_float16\">\n",
            "block6a_activation float32 <Policy \"mixed_float16\">\n",
            "block6a_se_squeeze float32 <Policy \"mixed_float16\">\n",
            "block6a_se_reshape float32 <Policy \"mixed_float16\">\n",
            "block6a_se_reduce float32 <Policy \"mixed_float16\">\n",
            "block6a_se_expand float32 <Policy \"mixed_float16\">\n",
            "block6a_se_excite float32 <Policy \"mixed_float16\">\n",
            "block6a_project_conv float32 <Policy \"mixed_float16\">\n",
            "block6a_project_bn float32 <Policy \"mixed_float16\">\n",
            "block6b_expand_conv float32 <Policy \"mixed_float16\">\n",
            "block6b_expand_bn float32 <Policy \"mixed_float16\">\n",
            "block6b_expand_activation float32 <Policy \"mixed_float16\">\n",
            "block6b_dwconv float32 <Policy \"mixed_float16\">\n",
            "block6b_bn float32 <Policy \"mixed_float16\">\n",
            "block6b_activation float32 <Policy \"mixed_float16\">\n",
            "block6b_se_squeeze float32 <Policy \"mixed_float16\">\n",
            "block6b_se_reshape float32 <Policy \"mixed_float16\">\n",
            "block6b_se_reduce float32 <Policy \"mixed_float16\">\n",
            "block6b_se_expand float32 <Policy \"mixed_float16\">\n",
            "block6b_se_excite float32 <Policy \"mixed_float16\">\n",
            "block6b_project_conv float32 <Policy \"mixed_float16\">\n",
            "block6b_project_bn float32 <Policy \"mixed_float16\">\n",
            "block6b_drop float32 <Policy \"mixed_float16\">\n",
            "block6b_add float32 <Policy \"mixed_float16\">\n",
            "block6c_expand_conv float32 <Policy \"mixed_float16\">\n",
            "block6c_expand_bn float32 <Policy \"mixed_float16\">\n",
            "block6c_expand_activation float32 <Policy \"mixed_float16\">\n",
            "block6c_dwconv float32 <Policy \"mixed_float16\">\n",
            "block6c_bn float32 <Policy \"mixed_float16\">\n",
            "block6c_activation float32 <Policy \"mixed_float16\">\n",
            "block6c_se_squeeze float32 <Policy \"mixed_float16\">\n",
            "block6c_se_reshape float32 <Policy \"mixed_float16\">\n",
            "block6c_se_reduce float32 <Policy \"mixed_float16\">\n",
            "block6c_se_expand float32 <Policy \"mixed_float16\">\n",
            "block6c_se_excite float32 <Policy \"mixed_float16\">\n",
            "block6c_project_conv float32 <Policy \"mixed_float16\">\n",
            "block6c_project_bn float32 <Policy \"mixed_float16\">\n",
            "block6c_drop float32 <Policy \"mixed_float16\">\n",
            "block6c_add float32 <Policy \"mixed_float16\">\n",
            "block6d_expand_conv float32 <Policy \"mixed_float16\">\n",
            "block6d_expand_bn float32 <Policy \"mixed_float16\">\n",
            "block6d_expand_activation float32 <Policy \"mixed_float16\">\n",
            "block6d_dwconv float32 <Policy \"mixed_float16\">\n",
            "block6d_bn float32 <Policy \"mixed_float16\">\n",
            "block6d_activation float32 <Policy \"mixed_float16\">\n",
            "block6d_se_squeeze float32 <Policy \"mixed_float16\">\n",
            "block6d_se_reshape float32 <Policy \"mixed_float16\">\n",
            "block6d_se_reduce float32 <Policy \"mixed_float16\">\n",
            "block6d_se_expand float32 <Policy \"mixed_float16\">\n",
            "block6d_se_excite float32 <Policy \"mixed_float16\">\n",
            "block6d_project_conv float32 <Policy \"mixed_float16\">\n",
            "block6d_project_bn float32 <Policy \"mixed_float16\">\n",
            "block6d_drop float32 <Policy \"mixed_float16\">\n",
            "block6d_add float32 <Policy \"mixed_float16\">\n",
            "block7a_expand_conv float32 <Policy \"mixed_float16\">\n",
            "block7a_expand_bn float32 <Policy \"mixed_float16\">\n",
            "block7a_expand_activation float32 <Policy \"mixed_float16\">\n",
            "block7a_dwconv float32 <Policy \"mixed_float16\">\n",
            "block7a_bn float32 <Policy \"mixed_float16\">\n",
            "block7a_activation float32 <Policy \"mixed_float16\">\n",
            "block7a_se_squeeze float32 <Policy \"mixed_float16\">\n",
            "block7a_se_reshape float32 <Policy \"mixed_float16\">\n",
            "block7a_se_reduce float32 <Policy \"mixed_float16\">\n",
            "block7a_se_expand float32 <Policy \"mixed_float16\">\n",
            "block7a_se_excite float32 <Policy \"mixed_float16\">\n",
            "block7a_project_conv float32 <Policy \"mixed_float16\">\n",
            "block7a_project_bn float32 <Policy \"mixed_float16\">\n",
            "top_conv float32 <Policy \"mixed_float16\">\n",
            "top_bn float32 <Policy \"mixed_float16\">\n",
            "top_activation float32 <Policy \"mixed_float16\">\n"
          ]
        }
      ]
    },
    {
      "cell_type": "markdown",
      "source": [
        "**FIT THE MODEL**\n",
        "1. Feature extraction\n",
        "2. Fine tuning"
      ],
      "metadata": {
        "id": "oBFNanQw25S1"
      }
    },
    {
      "cell_type": "code",
      "source": [
        "#Fitting model\n",
        "history = model.fit(train_data,\n",
        "                    epochs=3,\n",
        "                    steps_per_epoch=len(train_data),\n",
        "                    validation_data=test_data,\n",
        "                    validation_steps=int(0.15*len(test_data)),\n",
        "                    callbacks=[tensorboard_callback,model_checkpoint])"
      ],
      "metadata": {
        "colab": {
          "base_uri": "https://localhost:8080/"
        },
        "id": "ZD30aNHe29_9",
        "outputId": "f0ecf417-e432-4799-a0df-7b8e40aa8287"
      },
      "execution_count": 28,
      "outputs": [
        {
          "output_type": "stream",
          "name": "stderr",
          "text": [
            "WARNING:tensorflow:Model failed to serialize as JSON. Ignoring... Unable to serialize [2.0896919 2.1128857 2.1081853] to JSON. Unrecognized type <class 'tensorflow.python.framework.ops.EagerTensor'>.\n"
          ]
        },
        {
          "output_type": "stream",
          "name": "stdout",
          "text": [
            "Epoch 1/3\n",
            "2368/2368 [==============================] - ETA: 0s - loss: 1.7176 - accuracy: 0.5836"
          ]
        },
        {
          "output_type": "stream",
          "name": "stderr",
          "text": [
            "WARNING:tensorflow:Can save best model only with val_acc available, skipping.\n"
          ]
        },
        {
          "output_type": "stream",
          "name": "stdout",
          "text": [
            "\b\b\b\b\b\b\b\b\b\b\b\b\b\b\b\b\b\b\b\b\b\b\b\b\b\b\b\b\b\b\b\b\b\b\b\b\b\b\b\b\b\b\b\b\b\b\b\b\b\b\b\b\b\b\b\b\b\b\b\b\b\b\b\b\b\b\b\b\b\b\b\b\b\b\b\b\b\b\b\b\b\b\b\b\b\b\r2368/2368 [==============================] - 211s 82ms/step - loss: 1.7176 - accuracy: 0.5836 - val_loss: 1.1321 - val_accuracy: 0.6944\n",
            "Epoch 2/3\n",
            "2368/2368 [==============================] - ETA: 0s - loss: 1.2005 - accuracy: 0.6880"
          ]
        },
        {
          "output_type": "stream",
          "name": "stderr",
          "text": [
            "WARNING:tensorflow:Can save best model only with val_acc available, skipping.\n"
          ]
        },
        {
          "output_type": "stream",
          "name": "stdout",
          "text": [
            "\b\b\b\b\b\b\b\b\b\b\b\b\b\b\b\b\b\b\b\b\b\b\b\b\b\b\b\b\b\b\b\b\b\b\b\b\b\b\b\b\b\b\b\b\b\b\b\b\b\b\b\b\b\b\b\b\b\b\b\b\b\b\b\b\b\b\b\b\b\b\b\b\b\b\b\b\b\b\b\b\b\b\b\b\b\b\r2368/2368 [==============================] - 189s 79ms/step - loss: 1.2005 - accuracy: 0.6880 - val_loss: 1.0352 - val_accuracy: 0.7166\n",
            "Epoch 3/3\n",
            "2368/2368 [==============================] - ETA: 0s - loss: 1.0540 - accuracy: 0.7250"
          ]
        },
        {
          "output_type": "stream",
          "name": "stderr",
          "text": [
            "WARNING:tensorflow:Can save best model only with val_acc available, skipping.\n"
          ]
        },
        {
          "output_type": "stream",
          "name": "stdout",
          "text": [
            "\b\b\b\b\b\b\b\b\b\b\b\b\b\b\b\b\b\b\b\b\b\b\b\b\b\b\b\b\b\b\b\b\b\b\b\b\b\b\b\b\b\b\b\b\b\b\b\b\b\b\b\b\b\b\b\b\b\b\b\b\b\b\b\b\b\b\b\b\b\b\b\b\b\b\b\b\b\b\b\b\b\b\b\b\b\b\r2368/2368 [==============================] - 190s 79ms/step - loss: 1.0540 - accuracy: 0.7250 - val_loss: 0.9947 - val_accuracy: 0.7267\n"
          ]
        }
      ]
    },
    {
      "cell_type": "code",
      "source": [
        "model_eval=model.evaluate(test_data)"
      ],
      "metadata": {
        "colab": {
          "base_uri": "https://localhost:8080/"
        },
        "id": "epp4g89Q3BCB",
        "outputId": "c77423af-5021-4c53-f61e-fb73f709fd37"
      },
      "execution_count": 29,
      "outputs": [
        {
          "output_type": "stream",
          "name": "stdout",
          "text": [
            "790/790 [==============================] - 52s 66ms/step - loss: 0.9997 - accuracy: 0.7302\n"
          ]
        }
      ]
    },
    {
      "cell_type": "code",
      "source": [
        "hp.plot_loss_curves(history)"
      ],
      "metadata": {
        "colab": {
          "base_uri": "https://localhost:8080/",
          "height": 573
        },
        "id": "Ucwwwigl5LkZ",
        "outputId": "e5f6ecb7-8870-47ae-c074-6ee09e4055d3"
      },
      "execution_count": 30,
      "outputs": [
        {
          "output_type": "display_data",
          "data": {
            "text/plain": [
              "<Figure size 432x288 with 1 Axes>"
            ],
            "image/png": "[encoded data removed]"
          },
          "metadata": {
            "needs_background": "light"
          }
        },
        {
          "output_type": "display_data",
          "data": {
            "text/plain": [
              "<Figure size 432x288 with 1 Axes>"
            ],
            "image/png": "[encoded data removed]"
          },
          "metadata": {
            "needs_background": "light"
          }
        }
      ]
    },
    {
      "cell_type": "code",
      "source": [
        "tf.__version__"
      ],
      "metadata": {
        "id": "6fPV6aa36zdT",
        "outputId": "b16ee98f-b973-475d-c6ba-e4441b863f4a",
        "colab": {
          "base_uri": "https://localhost:8080/",
          "height": 35
        }
      },
      "execution_count": 31,
      "outputs": [
        {
          "output_type": "execute_result",
          "data": {
            "text/plain": [
              "'2.11.0'"
            ],
            "application/vnd.google.colaboratory.intrinsic+json": {
              "type": "string"
            }
          },
          "metadata": {},
          "execution_count": 31
        }
      ]
    },
    {
      "cell_type": "code",
      "source": [
        "for layer in base_model.layers:\n",
        "  print(layer.name,layer.dtype,layer.dtype_policy)"
      ],
      "metadata": {
        "id": "d5hOsmeF8c_s",
        "outputId": "55641d19-7d36-434d-d1c1-90aeb6973e59",
        "colab": {
          "base_uri": "https://localhost:8080/"
        }
      },
      "execution_count": 32,
      "outputs": [
        {
          "output_type": "stream",
          "name": "stdout",
          "text": [
            "input_1 float32 <Policy \"float32\">\n",
            "rescaling float32 <Policy \"mixed_float16\">\n",
            "normalization float32 <Policy \"mixed_float16\">\n",
            "rescaling_1 float32 <Policy \"mixed_float16\">\n",
            "stem_conv_pad float32 <Policy \"mixed_float16\">\n",
            "stem_conv float32 <Policy \"mixed_float16\">\n",
            "stem_bn float32 <Policy \"mixed_float16\">\n",
            "stem_activation float32 <Policy \"mixed_float16\">\n",
            "block1a_dwconv float32 <Policy \"mixed_float16\">\n",
            "block1a_bn float32 <Policy \"mixed_float16\">\n",
            "block1a_activation float32 <Policy \"mixed_float16\">\n",
            "block1a_se_squeeze float32 <Policy \"mixed_float16\">\n",
            "block1a_se_reshape float32 <Policy \"mixed_float16\">\n",
            "block1a_se_reduce float32 <Policy \"mixed_float16\">\n",
            "block1a_se_expand float32 <Policy \"mixed_float16\">\n",
            "block1a_se_excite float32 <Policy \"mixed_float16\">\n",
            "block1a_project_conv float32 <Policy \"mixed_float16\">\n",
            "block1a_project_bn float32 <Policy \"mixed_float16\">\n",
            "block2a_expand_conv float32 <Policy \"mixed_float16\">\n",
            "block2a_expand_bn float32 <Policy \"mixed_float16\">\n",
            "block2a_expand_activation float32 <Policy \"mixed_float16\">\n",
            "block2a_dwconv_pad float32 <Policy \"mixed_float16\">\n",
            "block2a_dwconv float32 <Policy \"mixed_float16\">\n",
            "block2a_bn float32 <Policy \"mixed_float16\">\n",
            "block2a_activation float32 <Policy \"mixed_float16\">\n",
            "block2a_se_squeeze float32 <Policy \"mixed_float16\">\n",
            "block2a_se_reshape float32 <Policy \"mixed_float16\">\n",
            "block2a_se_reduce float32 <Policy \"mixed_float16\">\n",
            "block2a_se_expand float32 <Policy \"mixed_float16\">\n",
            "block2a_se_excite float32 <Policy \"mixed_float16\">\n",
            "block2a_project_conv float32 <Policy \"mixed_float16\">\n",
            "block2a_project_bn float32 <Policy \"mixed_float16\">\n",
            "block2b_expand_conv float32 <Policy \"mixed_float16\">\n",
            "block2b_expand_bn float32 <Policy \"mixed_float16\">\n",
            "block2b_expand_activation float32 <Policy \"mixed_float16\">\n",
            "block2b_dwconv float32 <Policy \"mixed_float16\">\n",
            "block2b_bn float32 <Policy \"mixed_float16\">\n",
            "block2b_activation float32 <Policy \"mixed_float16\">\n",
            "block2b_se_squeeze float32 <Policy \"mixed_float16\">\n",
            "block2b_se_reshape float32 <Policy \"mixed_float16\">\n",
            "block2b_se_reduce float32 <Policy \"mixed_float16\">\n",
            "block2b_se_expand float32 <Policy \"mixed_float16\">\n",
            "block2b_se_excite float32 <Policy \"mixed_float16\">\n",
            "block2b_project_conv float32 <Policy \"mixed_float16\">\n",
            "block2b_project_bn float32 <Policy \"mixed_float16\">\n",
            "block2b_drop float32 <Policy \"mixed_float16\">\n",
            "block2b_add float32 <Policy \"mixed_float16\">\n",
            "block3a_expand_conv float32 <Policy \"mixed_float16\">\n",
            "block3a_expand_bn float32 <Policy \"mixed_float16\">\n",
            "block3a_expand_activation float32 <Policy \"mixed_float16\">\n",
            "block3a_dwconv_pad float32 <Policy \"mixed_float16\">\n",
            "block3a_dwconv float32 <Policy \"mixed_float16\">\n",
            "block3a_bn float32 <Policy \"mixed_float16\">\n",
            "block3a_activation float32 <Policy \"mixed_float16\">\n",
            "block3a_se_squeeze float32 <Policy \"mixed_float16\">\n",
            "block3a_se_reshape float32 <Policy \"mixed_float16\">\n",
            "block3a_se_reduce float32 <Policy \"mixed_float16\">\n",
            "block3a_se_expand float32 <Policy \"mixed_float16\">\n",
            "block3a_se_excite float32 <Policy \"mixed_float16\">\n",
            "block3a_project_conv float32 <Policy \"mixed_float16\">\n",
            "block3a_project_bn float32 <Policy \"mixed_float16\">\n",
            "block3b_expand_conv float32 <Policy \"mixed_float16\">\n",
            "block3b_expand_bn float32 <Policy \"mixed_float16\">\n",
            "block3b_expand_activation float32 <Policy \"mixed_float16\">\n",
            "block3b_dwconv float32 <Policy \"mixed_float16\">\n",
            "block3b_bn float32 <Policy \"mixed_float16\">\n",
            "block3b_activation float32 <Policy \"mixed_float16\">\n",
            "block3b_se_squeeze float32 <Policy \"mixed_float16\">\n",
            "block3b_se_reshape float32 <Policy \"mixed_float16\">\n",
            "block3b_se_reduce float32 <Policy \"mixed_float16\">\n",
            "block3b_se_expand float32 <Policy \"mixed_float16\">\n",
            "block3b_se_excite float32 <Policy \"mixed_float16\">\n",
            "block3b_project_conv float32 <Policy \"mixed_float16\">\n",
            "block3b_project_bn float32 <Policy \"mixed_float16\">\n",
            "block3b_drop float32 <Policy \"mixed_float16\">\n",
            "block3b_add float32 <Policy \"mixed_float16\">\n",
            "block4a_expand_conv float32 <Policy \"mixed_float16\">\n",
            "block4a_expand_bn float32 <Policy \"mixed_float16\">\n",
            "block4a_expand_activation float32 <Policy \"mixed_float16\">\n",
            "block4a_dwconv_pad float32 <Policy \"mixed_float16\">\n",
            "block4a_dwconv float32 <Policy \"mixed_float16\">\n",
            "block4a_bn float32 <Policy \"mixed_float16\">\n",
            "block4a_activation float32 <Policy \"mixed_float16\">\n",
            "block4a_se_squeeze float32 <Policy \"mixed_float16\">\n",
            "block4a_se_reshape float32 <Policy \"mixed_float16\">\n",
            "block4a_se_reduce float32 <Policy \"mixed_float16\">\n",
            "block4a_se_expand float32 <Policy \"mixed_float16\">\n",
            "block4a_se_excite float32 <Policy \"mixed_float16\">\n",
            "block4a_project_conv float32 <Policy \"mixed_float16\">\n",
            "block4a_project_bn float32 <Policy \"mixed_float16\">\n",
            "block4b_expand_conv float32 <Policy \"mixed_float16\">\n",
            "block4b_expand_bn float32 <Policy \"mixed_float16\">\n",
            "block4b_expand_activation float32 <Policy \"mixed_float16\">\n",
            "block4b_dwconv float32 <Policy \"mixed_float16\">\n",
            "block4b_bn float32 <Policy \"mixed_float16\">\n",
            "block4b_activation float32 <Policy \"mixed_float16\">\n",
            "block4b_se_squeeze float32 <Policy \"mixed_float16\">\n",
            "block4b_se_reshape float32 <Policy \"mixed_float16\">\n",
            "block4b_se_reduce float32 <Policy \"mixed_float16\">\n",
            "block4b_se_expand float32 <Policy \"mixed_float16\">\n",
            "block4b_se_excite float32 <Policy \"mixed_float16\">\n",
            "block4b_project_conv float32 <Policy \"mixed_float16\">\n",
            "block4b_project_bn float32 <Policy \"mixed_float16\">\n",
            "block4b_drop float32 <Policy \"mixed_float16\">\n",
            "block4b_add float32 <Policy \"mixed_float16\">\n",
            "block4c_expand_conv float32 <Policy \"mixed_float16\">\n",
            "block4c_expand_bn float32 <Policy \"mixed_float16\">\n",
            "block4c_expand_activation float32 <Policy \"mixed_float16\">\n",
            "block4c_dwconv float32 <Policy \"mixed_float16\">\n",
            "block4c_bn float32 <Policy \"mixed_float16\">\n",
            "block4c_activation float32 <Policy \"mixed_float16\">\n",
            "block4c_se_squeeze float32 <Policy \"mixed_float16\">\n",
            "block4c_se_reshape float32 <Policy \"mixed_float16\">\n",
            "block4c_se_reduce float32 <Policy \"mixed_float16\">\n",
            "block4c_se_expand float32 <Policy \"mixed_float16\">\n",
            "block4c_se_excite float32 <Policy \"mixed_float16\">\n",
            "block4c_project_conv float32 <Policy \"mixed_float16\">\n",
            "block4c_project_bn float32 <Policy \"mixed_float16\">\n",
            "block4c_drop float32 <Policy \"mixed_float16\">\n",
            "block4c_add float32 <Policy \"mixed_float16\">\n",
            "block5a_expand_conv float32 <Policy \"mixed_float16\">\n",
            "block5a_expand_bn float32 <Policy \"mixed_float16\">\n",
            "block5a_expand_activation float32 <Policy \"mixed_float16\">\n",
            "block5a_dwconv float32 <Policy \"mixed_float16\">\n",
            "block5a_bn float32 <Policy \"mixed_float16\">\n",
            "block5a_activation float32 <Policy \"mixed_float16\">\n",
            "block5a_se_squeeze float32 <Policy \"mixed_float16\">\n",
            "block5a_se_reshape float32 <Policy \"mixed_float16\">\n",
            "block5a_se_reduce float32 <Policy \"mixed_float16\">\n",
            "block5a_se_expand float32 <Policy \"mixed_float16\">\n",
            "block5a_se_excite float32 <Policy \"mixed_float16\">\n",
            "block5a_project_conv float32 <Policy \"mixed_float16\">\n",
            "block5a_project_bn float32 <Policy \"mixed_float16\">\n",
            "block5b_expand_conv float32 <Policy \"mixed_float16\">\n",
            "block5b_expand_bn float32 <Policy \"mixed_float16\">\n",
            "block5b_expand_activation float32 <Policy \"mixed_float16\">\n",
            "block5b_dwconv float32 <Policy \"mixed_float16\">\n",
            "block5b_bn float32 <Policy \"mixed_float16\">\n",
            "block5b_activation float32 <Policy \"mixed_float16\">\n",
            "block5b_se_squeeze float32 <Policy \"mixed_float16\">\n",
            "block5b_se_reshape float32 <Policy \"mixed_float16\">\n",
            "block5b_se_reduce float32 <Policy \"mixed_float16\">\n",
            "block5b_se_expand float32 <Policy \"mixed_float16\">\n",
            "block5b_se_excite float32 <Policy \"mixed_float16\">\n",
            "block5b_project_conv float32 <Policy \"mixed_float16\">\n",
            "block5b_project_bn float32 <Policy \"mixed_float16\">\n",
            "block5b_drop float32 <Policy \"mixed_float16\">\n",
            "block5b_add float32 <Policy \"mixed_float16\">\n",
            "block5c_expand_conv float32 <Policy \"mixed_float16\">\n",
            "block5c_expand_bn float32 <Policy \"mixed_float16\">\n",
            "block5c_expand_activation float32 <Policy \"mixed_float16\">\n",
            "block5c_dwconv float32 <Policy \"mixed_float16\">\n",
            "block5c_bn float32 <Policy \"mixed_float16\">\n",
            "block5c_activation float32 <Policy \"mixed_float16\">\n",
            "block5c_se_squeeze float32 <Policy \"mixed_float16\">\n",
            "block5c_se_reshape float32 <Policy \"mixed_float16\">\n",
            "block5c_se_reduce float32 <Policy \"mixed_float16\">\n",
            "block5c_se_expand float32 <Policy \"mixed_float16\">\n",
            "block5c_se_excite float32 <Policy \"mixed_float16\">\n",
            "block5c_project_conv float32 <Policy \"mixed_float16\">\n",
            "block5c_project_bn float32 <Policy \"mixed_float16\">\n",
            "block5c_drop float32 <Policy \"mixed_float16\">\n",
            "block5c_add float32 <Policy \"mixed_float16\">\n",
            "block6a_expand_conv float32 <Policy \"mixed_float16\">\n",
            "block6a_expand_bn float32 <Policy \"mixed_float16\">\n",
            "block6a_expand_activation float32 <Policy \"mixed_float16\">\n",
            "block6a_dwconv_pad float32 <Policy \"mixed_float16\">\n",
            "block6a_dwconv float32 <Policy \"mixed_float16\">\n",
            "block6a_bn float32 <Policy \"mixed_float16\">\n",
            "block6a_activation float32 <Policy \"mixed_float16\">\n",
            "block6a_se_squeeze float32 <Policy \"mixed_float16\">\n",
            "block6a_se_reshape float32 <Policy \"mixed_float16\">\n",
            "block6a_se_reduce float32 <Policy \"mixed_float16\">\n",
            "block6a_se_expand float32 <Policy \"mixed_float16\">\n",
            "block6a_se_excite float32 <Policy \"mixed_float16\">\n",
            "block6a_project_conv float32 <Policy \"mixed_float16\">\n",
            "block6a_project_bn float32 <Policy \"mixed_float16\">\n",
            "block6b_expand_conv float32 <Policy \"mixed_float16\">\n",
            "block6b_expand_bn float32 <Policy \"mixed_float16\">\n",
            "block6b_expand_activation float32 <Policy \"mixed_float16\">\n",
            "block6b_dwconv float32 <Policy \"mixed_float16\">\n",
            "block6b_bn float32 <Policy \"mixed_float16\">\n",
            "block6b_activation float32 <Policy \"mixed_float16\">\n",
            "block6b_se_squeeze float32 <Policy \"mixed_float16\">\n",
            "block6b_se_reshape float32 <Policy \"mixed_float16\">\n",
            "block6b_se_reduce float32 <Policy \"mixed_float16\">\n",
            "block6b_se_expand float32 <Policy \"mixed_float16\">\n",
            "block6b_se_excite float32 <Policy \"mixed_float16\">\n",
            "block6b_project_conv float32 <Policy \"mixed_float16\">\n",
            "block6b_project_bn float32 <Policy \"mixed_float16\">\n",
            "block6b_drop float32 <Policy \"mixed_float16\">\n",
            "block6b_add float32 <Policy \"mixed_float16\">\n",
            "block6c_expand_conv float32 <Policy \"mixed_float16\">\n",
            "block6c_expand_bn float32 <Policy \"mixed_float16\">\n",
            "block6c_expand_activation float32 <Policy \"mixed_float16\">\n",
            "block6c_dwconv float32 <Policy \"mixed_float16\">\n",
            "block6c_bn float32 <Policy \"mixed_float16\">\n",
            "block6c_activation float32 <Policy \"mixed_float16\">\n",
            "block6c_se_squeeze float32 <Policy \"mixed_float16\">\n",
            "block6c_se_reshape float32 <Policy \"mixed_float16\">\n",
            "block6c_se_reduce float32 <Policy \"mixed_float16\">\n",
            "block6c_se_expand float32 <Policy \"mixed_float16\">\n",
            "block6c_se_excite float32 <Policy \"mixed_float16\">\n",
            "block6c_project_conv float32 <Policy \"mixed_float16\">\n",
            "block6c_project_bn float32 <Policy \"mixed_float16\">\n",
            "block6c_drop float32 <Policy \"mixed_float16\">\n",
            "block6c_add float32 <Policy \"mixed_float16\">\n",
            "block6d_expand_conv float32 <Policy \"mixed_float16\">\n",
            "block6d_expand_bn float32 <Policy \"mixed_float16\">\n",
            "block6d_expand_activation float32 <Policy \"mixed_float16\">\n",
            "block6d_dwconv float32 <Policy \"mixed_float16\">\n",
            "block6d_bn float32 <Policy \"mixed_float16\">\n",
            "block6d_activation float32 <Policy \"mixed_float16\">\n",
            "block6d_se_squeeze float32 <Policy \"mixed_float16\">\n",
            "block6d_se_reshape float32 <Policy \"mixed_float16\">\n",
            "block6d_se_reduce float32 <Policy \"mixed_float16\">\n",
            "block6d_se_expand float32 <Policy \"mixed_float16\">\n",
            "block6d_se_excite float32 <Policy \"mixed_float16\">\n",
            "block6d_project_conv float32 <Policy \"mixed_float16\">\n",
            "block6d_project_bn float32 <Policy \"mixed_float16\">\n",
            "block6d_drop float32 <Policy \"mixed_float16\">\n",
            "block6d_add float32 <Policy \"mixed_float16\">\n",
            "block7a_expand_conv float32 <Policy \"mixed_float16\">\n",
            "block7a_expand_bn float32 <Policy \"mixed_float16\">\n",
            "block7a_expand_activation float32 <Policy \"mixed_float16\">\n",
            "block7a_dwconv float32 <Policy \"mixed_float16\">\n",
            "block7a_bn float32 <Policy \"mixed_float16\">\n",
            "block7a_activation float32 <Policy \"mixed_float16\">\n",
            "block7a_se_squeeze float32 <Policy \"mixed_float16\">\n",
            "block7a_se_reshape float32 <Policy \"mixed_float16\">\n",
            "block7a_se_reduce float32 <Policy \"mixed_float16\">\n",
            "block7a_se_expand float32 <Policy \"mixed_float16\">\n",
            "block7a_se_excite float32 <Policy \"mixed_float16\">\n",
            "block7a_project_conv float32 <Policy \"mixed_float16\">\n",
            "block7a_project_bn float32 <Policy \"mixed_float16\">\n",
            "top_conv float32 <Policy \"mixed_float16\">\n",
            "top_bn float32 <Policy \"mixed_float16\">\n",
            "top_activation float32 <Policy \"mixed_float16\">\n"
          ]
        }
      ]
    },
    {
      "cell_type": "markdown",
      "source": [
        "**Create some callbacks**"
      ],
      "metadata": {
        "id": "Ryf02IPcGccF"
      }
    },
    {
      "cell_type": "code",
      "source": [
        "early_stoping_callback = tf.keras.callbacks.EarlyStopping(monitor=\"val_loss\",\n",
        "                                                          patience=3)\n",
        "tensorboard_callback = tf.keras.callbacks.TensorBoard(log_dir=\"C:/Users/barto/OneDrive/Pulpit/DL_TF/t_board_food_app/VisionApp_FineTuning\")\n",
        "ModelChecpoint_callback = tf.keras.callbacks.ModelCheckpoint(filepath=\"C:/Users/barto/OneDrive/Pulpit/DL_TF/foodapp_finetune.ckpt\",\n",
        "                                                            monitor=\"val_loss\",\n",
        "                                                            verbose=1,\n",
        "                                                            save_best_only=True,\n",
        "                                                            save_weights_only=True)"
      ],
      "metadata": {
        "id": "Loasxdoi9WQk"
      },
      "execution_count": 33,
      "outputs": []
    },
    {
      "cell_type": "markdown",
      "source": [
        "**Create a fine tune model**"
      ],
      "metadata": {
        "id": "B4GfpfLlDl2h"
      }
    },
    {
      "cell_type": "code",
      "source": [
        "#Creatin learning rate reduction callback\n",
        "reduce_lr = tf.keras.callbacks.ReduceLROnPlateau(monitor=\"val_loss\",\n",
        "                                                factor=0.2, # Reducing learning rate by multiplying it by 0.2 whic is equal to reducing 5x\n",
        "                                                patience=2, # When stops to improve after 2 epochs then models decrease learning rate\n",
        "                                                verbose=1, # Print when learning rate is decreased\n",
        "                                                min_lr = 1e-7)"
      ],
      "metadata": {
        "id": "jxxiEPiFE5wg"
      },
      "execution_count": 34,
      "outputs": []
    },
    {
      "cell_type": "code",
      "source": [
        "\n",
        "for layer in model.layers:\n",
        "  layer.trainable = True # Make layers trainable to fine tuning - ther were frozen due to making feature extraction, but to fine tune efficient_net layer -> exchanging them to be trainable"
      ],
      "metadata": {
        "id": "CGKxjcYZEBkg"
      },
      "execution_count": 35,
      "outputs": []
    },
    {
      "cell_type": "code",
      "source": [
        "for layer in base_model.layers[:20]:\n",
        "  print(layer.name, layer.trainable,layer.dtype_policy)"
      ],
      "metadata": {
        "id": "kcNBaYcJGOWA",
        "outputId": "61cb7bb8-8eaa-4df4-ba83-9843f33f7d8d",
        "colab": {
          "base_uri": "https://localhost:8080/"
        }
      },
      "execution_count": 36,
      "outputs": [
        {
          "output_type": "stream",
          "name": "stdout",
          "text": [
            "input_1 True <Policy \"float32\">\n",
            "rescaling True <Policy \"mixed_float16\">\n",
            "normalization True <Policy \"mixed_float16\">\n",
            "rescaling_1 True <Policy \"mixed_float16\">\n",
            "stem_conv_pad True <Policy \"mixed_float16\">\n",
            "stem_conv True <Policy \"mixed_float16\">\n",
            "stem_bn True <Policy \"mixed_float16\">\n",
            "stem_activation True <Policy \"mixed_float16\">\n",
            "block1a_dwconv True <Policy \"mixed_float16\">\n",
            "block1a_bn True <Policy \"mixed_float16\">\n",
            "block1a_activation True <Policy \"mixed_float16\">\n",
            "block1a_se_squeeze True <Policy \"mixed_float16\">\n",
            "block1a_se_reshape True <Policy \"mixed_float16\">\n",
            "block1a_se_reduce True <Policy \"mixed_float16\">\n",
            "block1a_se_expand True <Policy \"mixed_float16\">\n",
            "block1a_se_excite True <Policy \"mixed_float16\">\n",
            "block1a_project_conv True <Policy \"mixed_float16\">\n",
            "block1a_project_bn True <Policy \"mixed_float16\">\n",
            "block2a_expand_conv True <Policy \"mixed_float16\">\n",
            "block2a_expand_bn True <Policy \"mixed_float16\">\n"
          ]
        }
      ]
    },
    {
      "cell_type": "code",
      "source": [
        "#Recompile the model\n",
        "model.compile(loss=\"sparse_categorical_crossentropy\",\n",
        "              optimizer=tf.keras.optimizers.Adam(learning_rate=0.0001),#Starts with 1e-4\n",
        "              metrics=[\"accuracy\"])"
      ],
      "metadata": {
        "id": "nk2rQG4DGYwJ"
      },
      "execution_count": 37,
      "outputs": []
    },
    {
      "cell_type": "code",
      "source": [
        "model.summary()\n"
      ],
      "metadata": {
        "id": "2wr6KYYeG220",
        "outputId": "83342e08-b4b4-4f1a-b72b-d1a654372422",
        "colab": {
          "base_uri": "https://localhost:8080/"
        }
      },
      "execution_count": 38,
      "outputs": [
        {
          "output_type": "stream",
          "name": "stdout",
          "text": [
            "Model: \"model\"\n",
            "_________________________________________________________________\n",
            " Layer (type)                Output Shape              Param #   \n",
            "=================================================================\n",
            " Input_Layer (InputLayer)    [(None, 224, 224, 3)]     0         \n",
            "                                                                 \n",
            " efficientnetb0 (Functional)  (None, None, None, 1280)  4049571  \n",
            "                                                                 \n",
            " Polling (GlobalAveragePooli  (None, 1280)             0         \n",
            " ng2D)                                                           \n",
            "                                                                 \n",
            " dense (Dense)               (None, 101)               129381    \n",
            "                                                                 \n",
            " softmax_float32 (Activation  (None, 101)              0         \n",
            " )                                                               \n",
            "                                                                 \n",
            "=================================================================\n",
            "Total params: 4,178,952\n",
            "Trainable params: 4,136,929\n",
            "Non-trainable params: 42,023\n",
            "_________________________________________________________________\n"
          ]
        }
      ]
    },
    {
      "cell_type": "code",
      "source": [
        "#Refit the model\n",
        "history_finetuned = model.fit(train_data,\n",
        "                              epochs=100,\n",
        "                              steps_per_epoch=len(train_data),\n",
        "                              validation_data=test_data,\n",
        "                              validation_steps=int(0.15*len(test_data)),\n",
        "                              callbacks=[early_stoping_callback,\n",
        "                                         tensorboard_callback,\n",
        "                                         ModelChecpoint_callback,\n",
        "                                         reduce_lr]\n",
        "                              )"
      ],
      "metadata": {
        "id": "5U0plif8G9sQ",
        "outputId": "f0fcc6a0-598d-4dd3-88d3-83514e014416",
        "colab": {
          "base_uri": "https://localhost:8080/"
        }
      },
      "execution_count": 39,
      "outputs": [
        {
          "output_type": "stream",
          "name": "stderr",
          "text": [
            "WARNING:tensorflow:Model failed to serialize as JSON. Ignoring... Unable to serialize [2.0896919 2.1128857 2.1081853] to JSON. Unrecognized type <class 'tensorflow.python.framework.ops.EagerTensor'>.\n"
          ]
        },
        {
          "output_type": "stream",
          "name": "stdout",
          "text": [
            "Epoch 1/100\n",
            "2368/2368 [==============================] - ETA: 0s - loss: 0.8727 - accuracy: 0.7643\n",
            "Epoch 1: val_loss improved from inf to 0.76090, saving model to C:/Users/barto/OneDrive/Pulpit/DL_TF/foodapp_finetune.ckpt\n",
            "2368/2368 [==============================] - 416s 156ms/step - loss: 0.8727 - accuracy: 0.7643 - val_loss: 0.7609 - val_accuracy: 0.7868 - lr: 1.0000e-04\n",
            "Epoch 2/100\n",
            "2368/2368 [==============================] - ETA: 0s - loss: 0.5413 - accuracy: 0.8506\n",
            "Epoch 2: val_loss improved from 0.76090 to 0.75578, saving model to C:/Users/barto/OneDrive/Pulpit/DL_TF/foodapp_finetune.ckpt\n",
            "2368/2368 [==============================] - 370s 155ms/step - loss: 0.5413 - accuracy: 0.8506 - val_loss: 0.7558 - val_accuracy: 0.7934 - lr: 1.0000e-04\n",
            "Epoch 3/100\n",
            "2368/2368 [==============================] - ETA: 0s - loss: 0.3059 - accuracy: 0.9123\n",
            "Epoch 3: val_loss did not improve from 0.75578\n",
            "2368/2368 [==============================] - 373s 156ms/step - loss: 0.3059 - accuracy: 0.9123 - val_loss: 0.8340 - val_accuracy: 0.7929 - lr: 1.0000e-04\n",
            "Epoch 4/100\n",
            "2368/2368 [==============================] - ETA: 0s - loss: 0.1585 - accuracy: 0.9537\n",
            "Epoch 4: val_loss did not improve from 0.75578\n",
            "\n",
            "Epoch 4: ReduceLROnPlateau reducing learning rate to 1.9999999494757503e-05.\n",
            "2368/2368 [==============================] - 371s 156ms/step - loss: 0.1585 - accuracy: 0.9537 - val_loss: 0.9307 - val_accuracy: 0.7810 - lr: 1.0000e-04\n",
            "Epoch 5/100\n",
            "2368/2368 [==============================] - ETA: 0s - loss: 0.0319 - accuracy: 0.9927\n",
            "Epoch 5: val_loss did not improve from 0.75578\n",
            "2368/2368 [==============================] - 368s 154ms/step - loss: 0.0319 - accuracy: 0.9927 - val_loss: 0.9952 - val_accuracy: 0.8040 - lr: 2.0000e-05\n"
          ]
        }
      ]
    },
    {
      "cell_type": "code",
      "source": [
        "model_evaluate_fine_tune = model.evaluate(test_data\n",
        "                                        )"
      ],
      "metadata": {
        "id": "5w7bvUQAHoA1",
        "outputId": "745663bf-3018-4563-962b-2106dc0e8e21",
        "colab": {
          "base_uri": "https://localhost:8080/"
        }
      },
      "execution_count": 40,
      "outputs": [
        {
          "output_type": "stream",
          "name": "stdout",
          "text": [
            "790/790 [==============================] - 52s 65ms/step - loss: 1.0269 - accuracy: 0.8034\n"
          ]
        }
      ]
    },
    {
      "cell_type": "code",
      "source": [
        "tf.saved_model.save(model, export_dir=\"C:/Users/barto/OneDrive/Pulpit/DL_TF/FoodVisionApp\")"
      ],
      "metadata": {
        "id": "YKM8x8hUbSvq",
        "outputId": "e472fcba-c403-43db-97a3-f59c79128fd1",
        "colab": {
          "base_uri": "https://localhost:8080/"
        }
      },
      "execution_count": 41,
      "outputs": [
        {
          "output_type": "stream",
          "name": "stderr",
          "text": [
            "WARNING:absl:Function `_wrapped_model` contains input name(s) Input_Layer with unsupported characters which will be renamed to input_layer in the SavedModel.\n",
            "WARNING:absl:Found untraced functions such as _jit_compiled_convolution_op, _jit_compiled_convolution_op, _jit_compiled_convolution_op, _jit_compiled_convolution_op, _jit_compiled_convolution_op while saving (showing 5 of 81). These functions will not be directly callable after loading.\n"
          ]
        }
      ]
    },
    {
      "cell_type": "code",
      "source": [
        "loaded_model = tf.saved_model.load(\"C:/Users/barto/OneDrive/Pulpit/DL_TF/FoodVisionApp\")"
      ],
      "metadata": {
        "id": "7NkBtZR2b60A"
      },
      "execution_count": 43,
      "outputs": []
    },
    {
      "cell_type": "code",
      "source": [
        "loaded_model.evaluate(test_data)"
      ],
      "metadata": {
        "id": "XO_wWGj8cMUS",
        "outputId": "57ee3fcc-aba1-49ed-871d-2bc19a59cd9e",
        "colab": {
          "base_uri": "https://localhost:8080/",
          "height": 165
        }
      },
      "execution_count": 44,
      "outputs": [
        {
          "output_type": "error",
          "ename": "AttributeError",
          "evalue": "ignored",
          "traceback": [
            "\u001b[0;31m---------------------------------------------------------------------------\u001b[0m",
            "\u001b[0;31mAttributeError\u001b[0m                            Traceback (most recent call last)",
            "\u001b[0;32m<ipython-input-44-68abf5accfb9>\u001b[0m in \u001b[0;36m<module>\u001b[0;34m\u001b[0m\n\u001b[0;32m----> 1\u001b[0;31m \u001b[0mloaded_model\u001b[0m\u001b[0;34m.\u001b[0m\u001b[0mevaluate\u001b[0m\u001b[0;34m(\u001b[0m\u001b[0mtest_data\u001b[0m\u001b[0;34m)\u001b[0m\u001b[0;34m\u001b[0m\u001b[0;34m\u001b[0m\u001b[0m\n\u001b[0m",
            "\u001b[0;31mAttributeError\u001b[0m: '_UserObject' object has no attribute 'evaluate'"
          ]
        }
      ]
    },
    {
      "cell_type": "code",
      "source": [
        "hp.plot_loss_curves(history_finetuned)"
      ],
      "metadata": {
        "id": "lNzXKMChcWL5",
        "outputId": "d9365d48-9928-46fd-cdff-5dfbf0dd1c2d",
        "colab": {
          "base_uri": "https://localhost:8080/",
          "height": 573
        }
      },
      "execution_count": 45,
      "outputs": [
        {
          "output_type": "display_data",
          "data": {
            "text/plain": [
              "<Figure size 432x288 with 1 Axes>"
            ],
            "image/png": "[encoded data removed]"
          },
          "metadata": {
            "needs_background": "light"
          }
        },
        {
          "output_type": "display_data",
          "data": {
            "text/plain": [
              "<Figure size 432x288 with 1 Axes>"
            ],
            "image/png": "[encoded data removed]"
          },
          "metadata": {
            "needs_background": "light"
          }
        }
      ]
    },
    {
      "cell_type": "code",
      "source": [
        "hp.compare_historys(original_history=history,new_history=history_finetuned)"
      ],
      "metadata": {
        "id": "6G9wqI6QcdhZ",
        "outputId": "dbf4c923-e8bb-4962-a59c-c5c0267a2ff4",
        "colab": {
          "base_uri": "https://localhost:8080/",
          "height": 513
        }
      },
      "execution_count": 46,
      "outputs": [
        {
          "output_type": "display_data",
          "data": {
            "text/plain": [
              "<Figure size 576x576 with 2 Axes>"
            ],
            "image/png": "[encoded data removed]"
          },
          "metadata": {
            "needs_background": "light"
          }
        }
      ]
    },
    {
      "cell_type": "code",
      "source": [
        "loaded_model_keras = tf.keras.Model(loaded_model)"
      ],
      "metadata": {
        "id": "PaEiwCWMcmac"
      },
      "execution_count": 48,
      "outputs": []
    },
    {
      "cell_type": "code",
      "source": [
        "loaded_model_keras.evaluate(test_data)"
      ],
      "metadata": {
        "id": "TRyR9AiKc7Yp",
        "outputId": "2bb08d48-342a-405e-fab4-7f3d8072e8fc",
        "colab": {
          "base_uri": "https://localhost:8080/",
          "height": 311
        }
      },
      "execution_count": 49,
      "outputs": [
        {
          "output_type": "error",
          "ename": "RuntimeError",
          "evalue": "ignored",
          "traceback": [
            "\u001b[0;31m---------------------------------------------------------------------------\u001b[0m",
            "\u001b[0;31mRuntimeError\u001b[0m                              Traceback (most recent call last)",
            "\u001b[0;32m<ipython-input-49-80e662d75da8>\u001b[0m in \u001b[0;36m<module>\u001b[0;34m\u001b[0m\n\u001b[0;32m----> 1\u001b[0;31m \u001b[0mloaded_model_keras\u001b[0m\u001b[0;34m.\u001b[0m\u001b[0mevaluate\u001b[0m\u001b[0;34m(\u001b[0m\u001b[0mtest_data\u001b[0m\u001b[0;34m)\u001b[0m\u001b[0;34m\u001b[0m\u001b[0;34m\u001b[0m\u001b[0m\n\u001b[0m",
            "\u001b[0;32m/usr/local/lib/python3.8/dist-packages/keras/utils/traceback_utils.py\u001b[0m in \u001b[0;36merror_handler\u001b[0;34m(*args, **kwargs)\u001b[0m\n\u001b[1;32m     68\u001b[0m             \u001b[0;31m# To get the full stack trace, call:\u001b[0m\u001b[0;34m\u001b[0m\u001b[0;34m\u001b[0m\u001b[0;34m\u001b[0m\u001b[0m\n\u001b[1;32m     69\u001b[0m             \u001b[0;31m# `tf.debugging.disable_traceback_filtering()`\u001b[0m\u001b[0;34m\u001b[0m\u001b[0;34m\u001b[0m\u001b[0;34m\u001b[0m\u001b[0m\n\u001b[0;32m---> 70\u001b[0;31m             \u001b[0;32mraise\u001b[0m \u001b[0me\u001b[0m\u001b[0;34m.\u001b[0m\u001b[0mwith_traceback\u001b[0m\u001b[0;34m(\u001b[0m\u001b[0mfiltered_tb\u001b[0m\u001b[0;34m)\u001b[0m \u001b[0;32mfrom\u001b[0m \u001b[0;32mNone\u001b[0m\u001b[0;34m\u001b[0m\u001b[0;34m\u001b[0m\u001b[0m\n\u001b[0m\u001b[1;32m     71\u001b[0m         \u001b[0;32mfinally\u001b[0m\u001b[0;34m:\u001b[0m\u001b[0;34m\u001b[0m\u001b[0;34m\u001b[0m\u001b[0m\n\u001b[1;32m     72\u001b[0m             \u001b[0;32mdel\u001b[0m \u001b[0mfiltered_tb\u001b[0m\u001b[0;34m\u001b[0m\u001b[0;34m\u001b[0m\u001b[0m\n",
            "\u001b[0;32m/usr/local/lib/python3.8/dist-packages/keras/engine/training.py\u001b[0m in \u001b[0;36m_assert_compile_was_called\u001b[0;34m(self)\u001b[0m\n\u001b[1;32m   3688\u001b[0m         \u001b[0;31m# (i.e. whether the model is built and its inputs/outputs are set).\u001b[0m\u001b[0;34m\u001b[0m\u001b[0;34m\u001b[0m\u001b[0;34m\u001b[0m\u001b[0m\n\u001b[1;32m   3689\u001b[0m         \u001b[0;32mif\u001b[0m \u001b[0;32mnot\u001b[0m \u001b[0mself\u001b[0m\u001b[0;34m.\u001b[0m\u001b[0m_is_compiled\u001b[0m\u001b[0;34m:\u001b[0m\u001b[0;34m\u001b[0m\u001b[0;34m\u001b[0m\u001b[0m\n\u001b[0;32m-> 3690\u001b[0;31m             raise RuntimeError(\n\u001b[0m\u001b[1;32m   3691\u001b[0m                 \u001b[0;34m\"You must compile your model before \"\u001b[0m\u001b[0;34m\u001b[0m\u001b[0;34m\u001b[0m\u001b[0m\n\u001b[1;32m   3692\u001b[0m                 \u001b[0;34m\"training/testing. \"\u001b[0m\u001b[0;34m\u001b[0m\u001b[0;34m\u001b[0m\u001b[0m\n",
            "\u001b[0;31mRuntimeError\u001b[0m: You must compile your model before training/testing. Use `model.compile(optimizer, loss)`."
          ]
        }
      ]
    },
    {
      "cell_type": "code",
      "source": [],
      "metadata": {
        "id": "33NMd16udA3y"
      },
      "execution_count": null,
      "outputs": []
    }
  ]
}